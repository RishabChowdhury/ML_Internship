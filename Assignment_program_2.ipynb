{
 "cells": [
  {
   "cell_type": "markdown",
   "id": "50d02c73-dbff-443a-bca2-90e6c2569cc4",
   "metadata": {},
   "source": [
    "### 1) Write a function to check if a number is prime"
   ]
  },
  {
   "cell_type": "code",
   "execution_count": 2,
   "id": "7dd60bf9-80c7-4609-a0d2-1701cef1c44c",
   "metadata": {},
   "outputs": [
    {
     "name": "stdout",
     "output_type": "stream",
     "text": [
      "Enter a number:  67\n"
     ]
    },
    {
     "name": "stdout",
     "output_type": "stream",
     "text": [
      "67 is a prime number.\n"
     ]
    }
   ],
   "source": [
    "def is_prime(n):\n",
    "    if n <= 1:\n",
    "        return False\n",
    "    for i in range(2, int(n ** 0.5) + 1):\n",
    "        if n % i == 0:\n",
    "            return False \n",
    "    return True  \n",
    "n = int(input(\"Enter a number: \"))\n",
    "if is_prime(n):\n",
    "    print(f\"{n} is a prime number.\")\n",
    "else:\n",
    "    print(f\"{n} is not a prime number.\")"
   ]
  },
  {
   "cell_type": "markdown",
   "id": "b135c7d8",
   "metadata": {},
   "source": [
    "### 2) Create a function to calculate the area of a rectangle"
   ]
  },
  {
   "cell_type": "code",
   "execution_count": 7,
   "id": "761a48ff",
   "metadata": {},
   "outputs": [
    {
     "name": "stdout",
     "output_type": "stream",
     "text": [
      "Enter the length:  9\n",
      "Enter the width:   8\n"
     ]
    },
    {
     "name": "stdout",
     "output_type": "stream",
     "text": [
      "The area of the rectangle is 72.0\n"
     ]
    }
   ],
   "source": [
    "def rectangle_area(length, width):   \n",
    "    return length * width\n",
    "length = float(input(\"Enter the length: \"))\n",
    "width = float(input(\"Enter the width:  \"))\n",
    "print(f\"The area of the rectangle is {rectangle_area(length, width)}\")"
   ]
  },
  {
   "cell_type": "markdown",
   "id": "c90df748",
   "metadata": {},
   "source": [
    "### 3) Create a function to find the maximum of three numbers"
   ]
  },
  {
   "cell_type": "code",
   "execution_count": 5,
   "id": "6f71c971",
   "metadata": {},
   "outputs": [
    {
     "name": "stdout",
     "output_type": "stream",
     "text": [
      "Enter first number:   78\n",
      "Enter second number:  78\n",
      "Enter third number:   98\n"
     ]
    },
    {
     "name": "stdout",
     "output_type": "stream",
     "text": [
      "The maximum number is 98.0\n"
     ]
    }
   ],
   "source": [
    "def max_of_three(a, b, c):\n",
    "    if a >= b and a >= c:\n",
    "        return a\n",
    "    elif b >= a and b >= c:\n",
    "        return b\n",
    "    else:\n",
    "        return c\n",
    "a = float(input(\"Enter first number:  \"))\n",
    "b = float(input(\"Enter second number: \"))\n",
    "c = float(input(\"Enter third number:  \"))\n",
    "print(f\"The maximum number is {max_of_three(a, b, c)}\")"
   ]
  },
  {
   "cell_type": "markdown",
   "id": "8f3ee21b-374d-4aa8-8a3d-3f95331586d2",
   "metadata": {},
   "source": [
    "### 4) Write a function to reverse a string"
   ]
  },
  {
   "cell_type": "code",
   "execution_count": 12,
   "id": "797f970e-0b46-4f20-a633-fabdae08253b",
   "metadata": {},
   "outputs": [
    {
     "name": "stdout",
     "output_type": "stream",
     "text": [
      "Enter a string:  hello\n"
     ]
    },
    {
     "name": "stdout",
     "output_type": "stream",
     "text": [
      "Reversed string: olleh\n"
     ]
    }
   ],
   "source": [
    "def reverse_string(s):\n",
    "    return s[::-1]\n",
    "text = input(\"Enter a string: \")\n",
    "print(f\"Reversed string: {reverse_string(text)}\")"
   ]
  },
  {
   "cell_type": "markdown",
   "id": "5b6473e9-bca5-4b13-8653-be1d6e30d873",
   "metadata": {},
   "source": [
    "### 5) Create a function to count the number of vowels in a string"
   ]
  },
  {
   "cell_type": "code",
   "execution_count": 1,
   "id": "f069ae7f-fd22-47b2-a76a-58d4b3d4df60",
   "metadata": {},
   "outputs": [
    {
     "name": "stdin",
     "output_type": "stream",
     "text": [
      "Enter a string:  apple\n"
     ]
    },
    {
     "name": "stdout",
     "output_type": "stream",
     "text": [
      "Number of vowels: 2\n"
     ]
    }
   ],
   "source": [
    "def count_vowels(s):\n",
    "    vowels = \"aeiouAEIOU\"\n",
    "    vowel_count = 0  \n",
    "    for char in s: \n",
    "        if char in vowels:  \n",
    "            vowel_count += 1  \n",
    "    return vowel_count  \n",
    "text = input(\"Enter a string: \")\n",
    "print(f\"Number of vowels: {count_vowels(text)}\")"
   ]
  },
  {
   "cell_type": "markdown",
   "id": "d53b1eb8-ce0f-4915-9fb3-7e26888fa77f",
   "metadata": {},
   "source": [
    "### 6) Write a function to check if a string is a palindrome"
   ]
  },
  {
   "cell_type": "code",
   "execution_count": 5,
   "id": "a203a74c-d380-47be-a2e2-7e86831ee114",
   "metadata": {},
   "outputs": [
    {
     "name": "stdin",
     "output_type": "stream",
     "text": [
      "Enter a string:  race car\n"
     ]
    },
    {
     "name": "stdout",
     "output_type": "stream",
     "text": [
      "\"race car\" is a palindrome.\n"
     ]
    }
   ],
   "source": [
    "def is_palindrome(s):\n",
    "    s = s.lower().replace(\" \", \"\")  \n",
    "    return s == s[::-1] \n",
    "text = input(\"Enter a string: \")\n",
    "if is_palindrome(text):\n",
    "    print(f'\"{text}\" is a palindrome.')\n",
    "else:\n",
    "    print(f'\"{text}\" is not a palindrome.')"
   ]
  },
  {
   "cell_type": "markdown",
   "id": "896c7c42-7bd9-441e-81e5-0cf7676b5793",
   "metadata": {},
   "source": [
    " ### 7) Create a function to calculate the sum of a list of numbers"
   ]
  },
  {
   "cell_type": "code",
   "execution_count": 6,
   "id": "c78ca6ad-0ab8-4c67-ac4a-0e5c33dd00ed",
   "metadata": {},
   "outputs": [
    {
     "name": "stdout",
     "output_type": "stream",
     "text": [
      "Sum of the list: 150\n"
     ]
    }
   ],
   "source": [
    "def sum_of_list(numbers):\n",
    "    return sum(numbers)\n",
    "num_list = [10, 20, 30, 40, 50]\n",
    "print(f\"Sum of the list: {sum_of_list(num_list)}\")"
   ]
  },
  {
   "cell_type": "markdown",
   "id": "daf061d0-f3c7-449e-a0bf-757c0fb7e336",
   "metadata": {},
   "source": [
    "### 8) Write a function to return the Fibonacci sequence up to n terms"
   ]
  },
  {
   "cell_type": "code",
   "execution_count": 7,
   "id": "d4a20f06-1b08-4566-a6b9-a83cc9094340",
   "metadata": {},
   "outputs": [
    {
     "name": "stdin",
     "output_type": "stream",
     "text": [
      "Enter the number of terms:  10\n"
     ]
    },
    {
     "name": "stdout",
     "output_type": "stream",
     "text": [
      "Fibonacci Sequence: [0, 1, 1, 2, 3, 5, 8, 13, 21, 34]\n"
     ]
    }
   ],
   "source": [
    "def fibonacci(n):\n",
    "    if n <= 0:\n",
    "        return \"Please enter a positive integer.\"\n",
    "    sequence = [0, 1]  \n",
    "    for _ in range(2, n): \n",
    "        sequence.append(sequence[-1] + sequence[-2]) \n",
    "    return sequence[:n]\n",
    "num_terms = int(input(\"Enter the number of terms: \"))\n",
    "print(f\"Fibonacci Sequence: {fibonacci(num_terms)}\")"
   ]
  },
  {
   "cell_type": "markdown",
   "id": "e81e45b3-804f-4d20-9c1b-890fb38b0077",
   "metadata": {},
   "source": [
    "### 9) Write a function to convert Celsius to Fahrenheit"
   ]
  },
  {
   "cell_type": "code",
   "execution_count": 13,
   "id": "6f9c184f-4f34-4605-8004-d26ea0cd85d6",
   "metadata": {},
   "outputs": [
    {
     "name": "stdin",
     "output_type": "stream",
     "text": [
      "Enter temperature in Celsius:  0\n"
     ]
    },
    {
     "name": "stdout",
     "output_type": "stream",
     "text": [
      "0.0°C is equal to 32.00°F\n"
     ]
    }
   ],
   "source": [
    "def celsius_to_fahrenheit(celsius):\n",
    "    fahrenheit = (celsius * 9/5) + 32\n",
    "    return fahrenheit\n",
    "temp_celsius = float(input(\"Enter temperature in Celsius: \"))\n",
    "print(f\"{temp_celsius}°C is equal to {celsius_to_fahrenheit(temp_celsius):.2f}°F\")"
   ]
  },
  {
   "cell_type": "markdown",
   "id": "0418d487-4360-49b2-9c9d-f68a06b7ca11",
   "metadata": {},
   "source": [
    "### 10) Write a function to find the minimum value in a list"
   ]
  },
  {
   "cell_type": "code",
   "execution_count": 17,
   "id": "a835f4b0-efd7-4eb8-8ebf-eecc96d15d44",
   "metadata": {},
   "outputs": [
    {
     "name": "stdout",
     "output_type": "stream",
     "text": [
      "Minimum value in the list: 3\n"
     ]
    }
   ],
   "source": [
    "def find_minimum(numbers):\n",
    "    if not numbers: \n",
    "        return None\n",
    "    return min(numbers)\n",
    "num_list = [10, 5, 20, 3, 67]\n",
    "print(f\"Minimum value in the list: {find_minimum(num_list)}\")"
   ]
  },
  {
   "cell_type": "markdown",
   "id": "8e329fec-2c2e-4eb9-82a9-d0e231ddc62d",
   "metadata": {},
   "source": [
    "### 11) Create a function to count how many times a character appears in a string"
   ]
  },
  {
   "cell_type": "code",
   "execution_count": 21,
   "id": "ae40291d-3b6b-4b6d-90e8-b95cb534fd8c",
   "metadata": {},
   "outputs": [
    {
     "name": "stdin",
     "output_type": "stream",
     "text": [
      "Enter a string:  banana\n",
      "Enter the character to count:  a\n"
     ]
    },
    {
     "name": "stdout",
     "output_type": "stream",
     "text": [
      "The character 'a' appears 3 times in the string.\n"
     ]
    }
   ],
   "source": [
    "def count_character(s, char):\n",
    "    return s.count(char)\n",
    "text = input(\"Enter a string: \")\n",
    "char_to_count = input(\"Enter the character to count: \")\n",
    "print(f\"The character '{char_to_count}' appears {count_character(text, char_to_count)} times in the string.\")"
   ]
  },
  {
   "cell_type": "markdown",
   "id": "af4bb3e2-bc44-4841-8e05-9366556e8af6",
   "metadata": {},
   "source": [
    "### 12) Write a function to check if a number is a perfect number"
   ]
  },
  {
   "cell_type": "code",
   "execution_count": 23,
   "id": "1c6918a7-16ff-4a4b-ae0c-5d5d7f6411a5",
   "metadata": {},
   "outputs": [
    {
     "name": "stdin",
     "output_type": "stream",
     "text": [
      "Enter a number:  6\n"
     ]
    },
    {
     "name": "stdout",
     "output_type": "stream",
     "text": [
      "6 is a perfect number.\n"
     ]
    }
   ],
   "source": [
    "def is_perfect_number(n):\n",
    "    if n <= 1:\n",
    "        return False \n",
    "    sum_of_divisors = sum(i for i in range(1, n) if n % i == 0)\n",
    "    return sum_of_divisors == n\n",
    "num = int(input(\"Enter a number: \"))\n",
    "if is_perfect_number(num):\n",
    "    print(f\"{num} is a perfect number.\")\n",
    "else:\n",
    "    print(f\"{num} is not a perfect number.\")"
   ]
  },
  {
   "cell_type": "markdown",
   "id": "7984f280-b88b-40cc-aee2-a995338a1387",
   "metadata": {},
   "source": [
    "### 13) Create a function to find the sum of digits of a number"
   ]
  },
  {
   "cell_type": "code",
   "execution_count": 24,
   "id": "08089a87-b815-439c-ace1-1120514c0ee9",
   "metadata": {},
   "outputs": [
    {
     "name": "stdin",
     "output_type": "stream",
     "text": [
      "Enter a number:  67\n"
     ]
    },
    {
     "name": "stdout",
     "output_type": "stream",
     "text": [
      "Sum of digits of 67 is 13\n"
     ]
    }
   ],
   "source": [
    "def sum_of_digits(n):\n",
    "    return sum(int(digit) for digit in str(abs(n)))\n",
    "num = int(input(\"Enter a number: \"))\n",
    "print(f\"Sum of digits of {num} is {sum_of_digits(num)}\")"
   ]
  },
  {
   "cell_type": "markdown",
   "id": "e719507f-0435-4c5d-9452-51d095de8086",
   "metadata": {},
   "source": [
    "### 14) Write a function that takes a string and returns a dictionary of character frequencies"
   ]
  },
  {
   "cell_type": "code",
   "execution_count": 26,
   "id": "a5f04669-b3e8-4d72-bc54-c3d911eeb304",
   "metadata": {},
   "outputs": [
    {
     "name": "stdin",
     "output_type": "stream",
     "text": [
      "Enter a string:  banana\n"
     ]
    },
    {
     "name": "stdout",
     "output_type": "stream",
     "text": [
      "Character frequencies: {'b': 1, 'a': 3, 'n': 2}\n"
     ]
    }
   ],
   "source": [
    "def char_frequencies(s):\n",
    "    freq_dict = {}\n",
    "    for char in s: \n",
    "        freq_dict[char] = freq_dict.get(char, 0) + 1\n",
    "    return freq_dict\n",
    "text = input(\"Enter a string: \")\n",
    "print(\"Character frequencies:\", char_frequencies(text))"
   ]
  },
  {
   "cell_type": "markdown",
   "id": "cfdc17a3-be92-443e-9554-c44dd2d7559d",
   "metadata": {},
   "source": [
    "### 15) Write a function that returns the average of a list of numbers"
   ]
  },
  {
   "cell_type": "code",
   "execution_count": 29,
   "id": "c4775bb4-f044-40a4-b980-10460c129cfe",
   "metadata": {},
   "outputs": [
    {
     "name": "stdout",
     "output_type": "stream",
     "text": [
      "Average of the list: 30.0\n"
     ]
    }
   ],
   "source": [
    "def average(numbers):\n",
    "    if not numbers:  \n",
    "        return None \n",
    "    return sum(numbers) / len(numbers)  \n",
    "num_list = [10, 20, 30, 40, 50]\n",
    "print(f\"Average of the list: {average(num_list)}\")"
   ]
  },
  {
   "cell_type": "markdown",
   "id": "a9f5aa8f-b838-4ffa-b8cd-98b8bad77dcc",
   "metadata": {},
   "source": [
    "### 16) Create a function that accepts a number and prints its multiplication table"
   ]
  },
  {
   "cell_type": "code",
   "execution_count": 34,
   "id": "f4e902eb-3f68-4844-8040-3a6de036ae84",
   "metadata": {},
   "outputs": [
    {
     "name": "stdin",
     "output_type": "stream",
     "text": [
      "Enter a number:  5\n"
     ]
    },
    {
     "name": "stdout",
     "output_type": "stream",
     "text": [
      "5 x 1 = 5\n",
      "5 x 2 = 10\n",
      "5 x 3 = 15\n",
      "5 x 4 = 20\n",
      "5 x 5 = 25\n",
      "5 x 6 = 30\n",
      "5 x 7 = 35\n",
      "5 x 8 = 40\n",
      "5 x 9 = 45\n",
      "5 x 10 = 50\n"
     ]
    }
   ],
   "source": [
    "def multiplication_table(n):\n",
    "    for i in range(1, 11):\n",
    "        print(f\"{n} x {i} = {n * i}\")\n",
    "num = int(input(\"Enter a number: \"))\n",
    "multiplication_table(num)"
   ]
  },
  {
   "cell_type": "markdown",
   "id": "e8bc1984-79d4-46c5-aa6c-59f981a8a43c",
   "metadata": {},
   "source": [
    "### 17) Write a function that accepts a list and returns the list in reverse order"
   ]
  },
  {
   "cell_type": "code",
   "execution_count": 35,
   "id": "6f007ba9-07de-4e85-9e1a-8b40616b056f",
   "metadata": {},
   "outputs": [
    {
     "name": "stdout",
     "output_type": "stream",
     "text": [
      "Reversed list: [5, 4, 3, 2, 1]\n"
     ]
    }
   ],
   "source": [
    "def reverse_list(lst):\n",
    "    return list(reversed(lst))\n",
    "numbers = [1, 2, 3, 4, 5]\n",
    "print(f\"Reversed list: {reverse_list(numbers)}\")"
   ]
  },
  {
   "cell_type": "markdown",
   "id": "2c89b939-6820-4ae0-8363-653c71ae5e14",
   "metadata": {},
   "source": [
    "### 18) Write a function to find the second largest number in a list"
   ]
  },
  {
   "cell_type": "code",
   "execution_count": 36,
   "id": "55147809-d437-4ff7-9773-15366955030c",
   "metadata": {},
   "outputs": [
    {
     "name": "stdout",
     "output_type": "stream",
     "text": [
      "Second largest number: 30\n"
     ]
    }
   ],
   "source": [
    "def second_largest(numbers):\n",
    "    if len(numbers) < 2:\n",
    "        return None\n",
    "    unique_numbers = list(set(numbers))  \n",
    "    unique_numbers.sort(reverse=True)\n",
    "    return unique_numbers[1] if len(unique_numbers) > 1 else None\n",
    "num_list = [10, 20, 5, 30, 20, 40, 40]\n",
    "print(f\"Second largest number: {second_largest(num_list)}\")"
   ]
  },
  {
   "cell_type": "markdown",
   "id": "bd6ccc71-9b3c-48e9-929f-228577e547df",
   "metadata": {},
   "source": [
    "### 19) Create a function that accepts a list of integers and returns only the even ones"
   ]
  },
  {
   "cell_type": "code",
   "execution_count": 38,
   "id": "05719912-1ef7-4915-867f-2ab600c1721f",
   "metadata": {},
   "outputs": [
    {
     "name": "stdout",
     "output_type": "stream",
     "text": [
      "Even numbers: [10, 22, 42, 60, 6]\n"
     ]
    }
   ],
   "source": [
    "def filter_even_numbers(numbers):\n",
    "    return [num for num in numbers if num % 2 == 0]\n",
    "num_list = [10, 15, 22, 31, 42, 55, 60, 6]\n",
    "print(f\"Even numbers: {filter_even_numbers(num_list)}\")"
   ]
  },
  {
   "cell_type": "markdown",
   "id": "8c79ad44-b3d3-4db3-9f3a-6fb91d2a0513",
   "metadata": {},
   "source": [
    "### 20) Write a function to check if all characters in a string are unique"
   ]
  },
  {
   "cell_type": "code",
   "execution_count": 44,
   "id": "44db9f36-597f-4a75-89f4-cde33a5d38a4",
   "metadata": {},
   "outputs": [
    {
     "name": "stdin",
     "output_type": "stream",
     "text": [
      "Enter a string:  cat\n"
     ]
    },
    {
     "name": "stdout",
     "output_type": "stream",
     "text": [
      "\"cat\" has all unique characters.\n"
     ]
    }
   ],
   "source": [
    "def has_unique_chars(s):\n",
    "    return len(set(s)) == len(s)\n",
    "text = input(\"Enter a string: \")\n",
    "if has_unique_chars(text):\n",
    "    print(f'\"{text}\" has all unique characters.')\n",
    "else:\n",
    "    print(f'\"{text}\" contains duplicate characters.')"
   ]
  },
  {
   "cell_type": "markdown",
   "id": "4c14c0eb-5e62-4527-96f8-6fed4b8c7f68",
   "metadata": {},
   "source": [
    "### 21) Create a function to calculate the greatest common divisor (GCD) of two numbers"
   ]
  },
  {
   "cell_type": "code",
   "execution_count": 46,
   "id": "c467e299-6e9d-4dfb-b7a3-99912d717c7a",
   "metadata": {},
   "outputs": [
    {
     "name": "stdin",
     "output_type": "stream",
     "text": [
      "Enter first number:  50\n",
      "Enter second number:  10\n"
     ]
    },
    {
     "name": "stdout",
     "output_type": "stream",
     "text": [
      "GCD of 50 and 10 is 10\n"
     ]
    }
   ],
   "source": [
    "def gcd(a, b):\n",
    "    while b:\n",
    "        a, b = b, a % b\n",
    "    return abs(a)\n",
    "num1 = int(input(\"Enter first number: \"))\n",
    "num2 = int(input(\"Enter second number: \"))\n",
    "print(f\"GCD of {num1} and {num2} is {gcd(num1, num2)}\")"
   ]
  },
  {
   "cell_type": "markdown",
   "id": "c3c70a87-43a4-4c4a-bcfc-b72b0278e10c",
   "metadata": {},
   "source": [
    "### 22) Write a function to find the least common multiple (LCM) of two numbers"
   ]
  },
  {
   "cell_type": "code",
   "execution_count": 48,
   "id": "7c2bbb0e-5aaa-4628-a773-3ae08845a54e",
   "metadata": {},
   "outputs": [
    {
     "name": "stdin",
     "output_type": "stream",
     "text": [
      "Enter first number:  2\n",
      "Enter second number:  4\n"
     ]
    },
    {
     "name": "stdout",
     "output_type": "stream",
     "text": [
      "LCM of 2 and 4 is 4\n"
     ]
    }
   ],
   "source": [
    "def lcm(a, b):\n",
    "    if a == 0 or b == 0:\n",
    "        return 0 \n",
    "    return abs(a * b) // gcd(a, b)  \n",
    "def gcd(a, b):\n",
    "    while b:\n",
    "        a, b = b, a % b\n",
    "    return abs(a)\n",
    "num1 = int(input(\"Enter first number: \"))\n",
    "num2 = int(input(\"Enter second number: \"))\n",
    "print(f\"LCM of {num1} and {num2} is {lcm(num1, num2)}\")"
   ]
  },
  {
   "cell_type": "markdown",
   "id": "92e40e7c-6a83-4457-a585-80925349b828",
   "metadata": {},
   "source": [
    "### 23) Create a function to remove duplicates from a list"
   ]
  },
  {
   "cell_type": "code",
   "execution_count": 49,
   "id": "d0aa9dfb-555e-4364-bee7-c63666a93792",
   "metadata": {},
   "outputs": [
    {
     "name": "stdout",
     "output_type": "stream",
     "text": [
      "List without duplicates: [10, 20, 30, 40, 50]\n"
     ]
    }
   ],
   "source": [
    "def remove_duplicates(lst):\n",
    "    unique_list = [] \n",
    "    for item in lst:\n",
    "        if item not in unique_list:\n",
    "            unique_list.append(item)\n",
    "    return unique_list\n",
    "num_list = [10, 20, 10, 30, 40, 30, 50]\n",
    "print(f\"List without duplicates: {remove_duplicates(num_list)}\")"
   ]
  },
  {
   "cell_type": "markdown",
   "id": "87121e72-45b2-479e-afc1-6e1ec914c714",
   "metadata": {},
   "source": [
    "### 24) Write a recursive function to compute the factorial of a number"
   ]
  },
  {
   "cell_type": "code",
   "execution_count": 50,
   "id": "8579325e-c45e-45e6-b0e7-aaa782b6adee",
   "metadata": {},
   "outputs": [
    {
     "name": "stdin",
     "output_type": "stream",
     "text": [
      "Enter a number:  5\n"
     ]
    },
    {
     "name": "stdout",
     "output_type": "stream",
     "text": [
      "Factorial of 5 is 120\n"
     ]
    }
   ],
   "source": [
    "def factorial(n):\n",
    "    if n == 0 or n == 1: \n",
    "        return 1\n",
    "    return n * factorial(n - 1)\n",
    "num = int(input(\"Enter a number: \"))\n",
    "print(f\"Factorial of {num} is {factorial(num)}\")"
   ]
  },
  {
   "cell_type": "markdown",
   "id": "7b314691-db7c-45bf-8ac1-a70a8b2188a8",
   "metadata": {},
   "source": [
    "### 25) Create a function that checks if a number is an Armstrong number"
   ]
  },
  {
   "cell_type": "code",
   "execution_count": 52,
   "id": "3fdb3eb7-2c5d-4ce6-ac7b-60c6af34cfad",
   "metadata": {},
   "outputs": [
    {
     "name": "stdin",
     "output_type": "stream",
     "text": [
      "Enter a number:  153\n"
     ]
    },
    {
     "name": "stdout",
     "output_type": "stream",
     "text": [
      "153 is not an Armstrong number.\n"
     ]
    }
   ],
   "source": [
    "def is_armstrong(n):\n",
    "    num_str = str(n)  \n",
    "    num_digits = len(num_str)\n",
    "    armstrong_sum = sum(int(digit) ** num_digits for digit in num_str)\n",
    "num = int(input(\"Enter a number: \"))\n",
    "if is_armstrong(num):\n",
    "    print(f\"{num} is an Armstrong number.\")\n",
    "else:\n",
    "    print(f\"{num} is not an Armstrong number.\")"
   ]
  },
  {
   "cell_type": "markdown",
   "id": "67ede78c-814f-4f75-bf3e-736f894bd539",
   "metadata": {},
   "source": [
    "### 26) Write a function that returns all prime numbers up to n"
   ]
  },
  {
   "cell_type": "code",
   "execution_count": 2,
   "id": "1181f611-ad2d-4285-8aae-36ae35466c2f",
   "metadata": {},
   "outputs": [
    {
     "name": "stdin",
     "output_type": "stream",
     "text": [
      "Enter a number:  100\n"
     ]
    },
    {
     "name": "stdout",
     "output_type": "stream",
     "text": [
      "Prime numbers up to 100: [2, 3, 5, 7, 11, 13, 17, 19, 23, 29, 31, 37, 41, 43, 47, 53, 59, 61, 67, 71, 73, 79, 83, 89, 97]\n"
     ]
    }
   ],
   "source": [
    "def find_primes(n):\n",
    "    if n < 2:\n",
    "        return []\n",
    "    primes = []\n",
    "    for num in range(2, n + 1):\n",
    "        is_prime = True\n",
    "        for i in range(2, int(num ** 0.5) + 1): \n",
    "            if num % i == 0:\n",
    "                is_prime = False\n",
    "                break\n",
    "        if is_prime:\n",
    "            primes.append(num)\n",
    "    return primes\n",
    "limit = int(input(\"Enter a number: \"))\n",
    "print(f\"Prime numbers up to {limit}: {find_primes(limit)}\")"
   ]
  },
  {
   "cell_type": "markdown",
   "id": "22caac35-62c2-4715-898e-e1747e7fad4a",
   "metadata": {},
   "source": [
    "### 27) Create a function that accepts a sentence and returns the longest word"
   ]
  },
  {
   "cell_type": "code",
   "execution_count": 2,
   "id": "d79a51c6-d7bd-403d-9712-68d8b3595603",
   "metadata": {},
   "outputs": [
    {
     "name": "stdin",
     "output_type": "stream",
     "text": [
      "Enter a sentence:  i love computer science\n"
     ]
    },
    {
     "name": "stdout",
     "output_type": "stream",
     "text": [
      "Longest word: computer\n"
     ]
    }
   ],
   "source": [
    "import string\n",
    "def longest_word(sentence):\n",
    "    translator = str.maketrans('', '', string.punctuation)\n",
    "    words = sentence.split()\n",
    "    cleaned_words = [word.translate(translator) for word in words]\n",
    "    if not cleaned_words:\n",
    "        return \"\"\n",
    "    return max(cleaned_words, key=len)\n",
    "sentence_input = input(\"Enter a sentence: \")\n",
    "print(\"Longest word:\", longest_word(sentence_input))"
   ]
  },
  {
   "cell_type": "markdown",
   "id": "dc2b8da5-5233-49f5-9a7c-3bedce4577e9",
   "metadata": {},
   "source": [
    "### 28) Write a function to compute the power of a number using recursion"
   ]
  },
  {
   "cell_type": "code",
   "execution_count": 3,
   "id": "852cf4ba-e651-4d47-b02b-820e883cf2b6",
   "metadata": {},
   "outputs": [
    {
     "name": "stdin",
     "output_type": "stream",
     "text": [
      "Enter the base:  3\n",
      "Enter a non-negative exponent:  3\n"
     ]
    },
    {
     "name": "stdout",
     "output_type": "stream",
     "text": [
      "Result: 27.0\n"
     ]
    }
   ],
   "source": [
    "def power(x, n):\n",
    "    if n == 0:\n",
    "        return 1\n",
    "    return x * power(x, n - 1)\n",
    "base = float(input(\"Enter the base: \"))\n",
    "exponent = int(input(\"Enter a non-negative exponent: \"))\n",
    "print(\"Result:\", power(base, exponent))"
   ]
  },
  {
   "cell_type": "markdown",
   "id": "6bc72a21-4a61-4dda-ad48-11498cc0816f",
   "metadata": {},
   "source": [
    " ### 29) Create a function that flattens a nested list"
   ]
  },
  {
   "cell_type": "code",
   "execution_count": 4,
   "id": "d1de71c1-c436-4130-b18f-7031e06e3797",
   "metadata": {},
   "outputs": [
    {
     "name": "stdout",
     "output_type": "stream",
     "text": [
      "[1, 2, 3, 4, 5, 6, 7, 8, 9]\n"
     ]
    }
   ],
   "source": [
    "def flatten(nested_list):\n",
    "    flat_list = []\n",
    "    for item in nested_list:\n",
    "        if isinstance(item, list):\n",
    "            flat_list.extend(flatten(item))\n",
    "        else:\n",
    "            flat_list.append(item)\n",
    "    return flat_list\n",
    "nested = [1, [2, [3, 4], 5], 6, [7, [8, 9]]]\n",
    "print(flatten(nested))"
   ]
  },
  {
   "cell_type": "markdown",
   "id": "7523c243-e880-4268-8e00-24167c9d95cf",
   "metadata": {},
   "source": [
    "### 30) Write a function to check if a list is sorted"
   ]
  },
  {
   "cell_type": "code",
   "execution_count": 5,
   "id": "d2c8421e-b8ab-4e05-a4a4-4b475dc594f4",
   "metadata": {},
   "outputs": [
    {
     "name": "stdout",
     "output_type": "stream",
     "text": [
      "Sorted: True\n",
      "Unsorted: False\n"
     ]
    }
   ],
   "source": [
    "def is_sorted(lst):\n",
    "    return all(lst[i] <= lst[i+1] for i in range(len(lst) - 1))\n",
    "sample_list = [1, 2, 3, 4, 5]\n",
    "print(\"Sorted:\", is_sorted(sample_list))\n",
    "sample_list_unsorted = [1, 3, 2, 4, 5]\n",
    "print(\"Unsorted:\", is_sorted(sample_list_unsorted))"
   ]
  },
  {
   "cell_type": "markdown",
   "id": "f0d20b8e-1f89-4625-85c0-3948587b399a",
   "metadata": {},
   "source": [
    "### 31) Create a function to merge two sorted lists into one sorted list"
   ]
  },
  {
   "cell_type": "code",
   "execution_count": 6,
   "id": "a3d85dac-d8fc-452c-aa74-9240178a13b0",
   "metadata": {},
   "outputs": [
    {
     "name": "stdout",
     "output_type": "stream",
     "text": [
      "Merged sorted list: [1, 2, 3, 4, 5, 6, 7, 8, 9, 10]\n"
     ]
    }
   ],
   "source": [
    "def merge_sorted_lists(list1, list2):\n",
    "    merged = []\n",
    "    i = 0\n",
    "    j = 0\n",
    "    while i < len(list1) and j < len(list2):\n",
    "        if list1[i] <= list2[j]:\n",
    "            merged.append(list1[i])\n",
    "            i += 1\n",
    "        else:\n",
    "            merged.append(list2[j])\n",
    "            j += 1\n",
    "    while i < len(list1):\n",
    "        merged.append(list1[i])\n",
    "        i += 1\n",
    "    while j < len(list2):\n",
    "        merged.append(list2[j])\n",
    "        j += 1\n",
    "    return merged\n",
    "sorted_list1 = [1, 3, 5, 7, 9]\n",
    "sorted_list2 = [2, 4, 6, 8, 10]\n",
    "print(\"Merged sorted list:\", merge_sorted_lists(sorted_list1, sorted_list2))"
   ]
  },
  {
   "cell_type": "markdown",
   "id": "4ad80d71-0bfc-4731-896b-5f1a2aad535b",
   "metadata": {},
   "source": [
    "### 32) Write a function to find the most frequent element in a list"
   ]
  },
  {
   "cell_type": "code",
   "execution_count": 7,
   "id": "6f782626-a566-4cc3-a05f-a63f64fe8c48",
   "metadata": {},
   "outputs": [
    {
     "name": "stdout",
     "output_type": "stream",
     "text": [
      "Most frequent element: 3\n"
     ]
    }
   ],
   "source": [
    "def most_frequent(lst):\n",
    "    frequency = {}\n",
    "    for item in lst:\n",
    "        frequency[item] = frequency.get(item, 0) + 1\n",
    "    max_item = None\n",
    "    max_count = 0\n",
    "    for item, count in frequency.items():\n",
    "        if count > max_count:\n",
    "            max_count = count\n",
    "            max_item = item\n",
    "    return max_item\n",
    "sample_list = [1, 3, 2, 1, 4, 1, 3, 3, 3]\n",
    "print(\"Most frequent element:\", most_frequent(sample_list))"
   ]
  },
  {
   "cell_type": "markdown",
   "id": "aaae04e7-d878-4b85-a201-ce824f91469a",
   "metadata": {},
   "source": [
    "### 33) Create a function that returns the median of a list"
   ]
  },
  {
   "cell_type": "code",
   "execution_count": 9,
   "id": "c81c3763-d953-4f5f-bc59-3fff19e9196a",
   "metadata": {},
   "outputs": [
    {
     "name": "stdout",
     "output_type": "stream",
     "text": [
      "Median value: 3\n"
     ]
    }
   ],
   "source": [
    "def median(lst):\n",
    "    sorted_lst = sorted(lst)\n",
    "    n = len(sorted_lst)\n",
    "    if n == 0:\n",
    "        return None\n",
    "    mid = n // 2\n",
    "    if n % 2 == 0:\n",
    "        return (sorted_lst[mid - 1] + sorted_lst[mid]) / 2\n",
    "    else:\n",
    "        return sorted_lst[mid]\n",
    "sample_list = [7, 3, 2, 1, 5]\n",
    "print(\"Median value:\", median(sample_list))"
   ]
  },
  {
   "cell_type": "markdown",
   "id": "71882259-8955-4256-8370-5ed5a2e3015e",
   "metadata": {},
   "source": [
    "### 34) Create a function that finds the intersection of two lists"
   ]
  },
  {
   "cell_type": "code",
   "execution_count": 10,
   "id": "cb012a60-56b2-44bf-a41f-f0e007f420d5",
   "metadata": {},
   "outputs": [
    {
     "name": "stdout",
     "output_type": "stream",
     "text": [
      "Intersection: [4, 5]\n"
     ]
    }
   ],
   "source": [
    "def intersection(list1, list2):\n",
    "    return list(set(list1) & set(list2))\n",
    "list1 = [1, 2, 3, 4, 5, 5]\n",
    "list2 = [4, 5, 6, 7, 8]\n",
    "print(\"Intersection:\", intersection(list1, list2))"
   ]
  },
  {
   "cell_type": "markdown",
   "id": "76186cef-4db5-4b4a-8edb-a461be005079",
   "metadata": {},
   "source": [
    "### 35) Write a function that accepts variable number of arguments and returns their product"
   ]
  },
  {
   "cell_type": "code",
   "execution_count": 11,
   "id": "a8ab50be-382c-4bfb-b444-e5d090edb266",
   "metadata": {},
   "outputs": [
    {
     "name": "stdout",
     "output_type": "stream",
     "text": [
      "Product: 24\n"
     ]
    }
   ],
   "source": [
    "def product(*args):\n",
    "    result = 1\n",
    "    for num in args:\n",
    "        result *= num\n",
    "    return result\n",
    "print(\"Product:\", product(1, 2, 3, 4))"
   ]
  },
  {
   "cell_type": "markdown",
   "id": "65287856-868d-46ae-9026-59fba4cbcd10",
   "metadata": {},
   "source": [
    "### 36) Write a function that returns a list of tuples (element, index) from a list"
   ]
  },
  {
   "cell_type": "code",
   "execution_count": 12,
   "id": "ca10f4c1-d1f8-428c-83e8-3146be4a7239",
   "metadata": {},
   "outputs": [
    {
     "name": "stdout",
     "output_type": "stream",
     "text": [
      "[(10, 0), (20, 1), (30, 2), (40, 3)]\n"
     ]
    }
   ],
   "source": [
    "def element_index_tuples(lst):\n",
    "    return [(element, index) for index, element in enumerate(lst)]\n",
    "sample_list = [10, 20, 30, 40]\n",
    "print(element_index_tuples(sample_list))"
   ]
  },
  {
   "cell_type": "markdown",
   "id": "464e2ca3-6a25-4942-8073-6d66c4649949",
   "metadata": {},
   "source": [
    "### 37) Create a function that accepts a string and returns a dictionary of word counts"
   ]
  },
  {
   "cell_type": "code",
   "execution_count": 14,
   "id": "7b98499b-9ce5-46c5-9f09-85f79f9c670a",
   "metadata": {},
   "outputs": [
    {
     "name": "stdin",
     "output_type": "stream",
     "text": [
      "Enter a sentence:  hey tell me your name my name is rishab\n"
     ]
    },
    {
     "name": "stdout",
     "output_type": "stream",
     "text": [
      "Word counts: {'hey': 1, 'tell': 1, 'me': 1, 'your': 1, 'name': 2, 'my': 1, 'is': 1, 'rishab': 1}\n"
     ]
    }
   ],
   "source": [
    "def word_count_dict(input_string):\n",
    "    words = input_string.lower().split()\n",
    "    result = {}\n",
    "    for word in words:\n",
    "        result[word] = result.get(word, 0) + 1\n",
    "    return result\n",
    "text = input(\"Enter a sentence: \")\n",
    "print(\"Word counts:\", word_count_dict(text))"
   ]
  },
  {
   "cell_type": "markdown",
   "id": "52c8cb9f-0b8f-4f8b-82f1-15a9bea1a4f4",
   "metadata": {},
   "source": [
    "### 38) Write a function that checks if a sentence is a pangram"
   ]
  },
  {
   "cell_type": "code",
   "execution_count": 18,
   "id": "789bbb23-49a1-4b00-a3e5-b398db1011d0",
   "metadata": {},
   "outputs": [
    {
     "name": "stdin",
     "output_type": "stream",
     "text": [
      "Enter a sentence:  hello world\n"
     ]
    },
    {
     "name": "stdout",
     "output_type": "stream",
     "text": [
      "Is pangram: False\n"
     ]
    }
   ],
   "source": [
    "def is_pangram(sentence):\n",
    "    alphabet = set(\"abcdefghijklmnopqrstuvwxyz\")\n",
    "    return alphabet.issubset(set(sentence.lower()))\n",
    "s = input(\"Enter a sentence: \")\n",
    "print(\"Is pangram:\", is_pangram(s))"
   ]
  },
  {
   "cell_type": "markdown",
   "id": "46e26260-6efc-4822-ab6b-209733f3619e",
   "metadata": {},
   "source": [
    "### 39) Create a function that accepts a list and a value,and returns the index of the value (or -1)"
   ]
  },
  {
   "cell_type": "code",
   "execution_count": 22,
   "id": "8f8b5007-f305-4207-9e40-8327754d0cf9",
   "metadata": {},
   "outputs": [
    {
     "name": "stdout",
     "output_type": "stream",
     "text": [
      "Index of 40 : 3\n"
     ]
    }
   ],
   "source": [
    "def find_index(lst, value):\n",
    "    for i, v in enumerate(lst):\n",
    "        if v == value:\n",
    "            return i\n",
    "    return -1\n",
    "numbers = [10, 20, 30, 40, 50]\n",
    "target_value = 40\n",
    "print(\"Index of\", target_value, \":\", find_index(numbers, target_value))"
   ]
  },
  {
   "cell_type": "markdown",
   "id": "4f0d0719-f97c-457f-8b73-9a117e28e23c",
   "metadata": {},
   "source": [
    "### 40) Write a function that counts the number of uppercase and lowercase characters in a string"
   ]
  },
  {
   "cell_type": "code",
   "execution_count": 24,
   "id": "de1ecf04-b888-4855-b7a0-626dcad68afa",
   "metadata": {},
   "outputs": [
    {
     "name": "stdin",
     "output_type": "stream",
     "text": [
      "Enter a string:  Apple\n"
     ]
    },
    {
     "name": "stdout",
     "output_type": "stream",
     "text": [
      "Uppercase letters: 1\n",
      "Lowercase letters: 4\n"
     ]
    }
   ],
   "source": [
    "def count_case(s):\n",
    "    upper = 0\n",
    "    lower = 0\n",
    "    for char in s:\n",
    "        if char.isupper():\n",
    "            upper += 1\n",
    "        elif char.islower():\n",
    "            lower += 1\n",
    "    return upper, lower\n",
    "input_string = input(\"Enter a string: \")\n",
    "upper_count, lower_count = count_case(input_string)\n",
    "print(\"Uppercase letters:\", upper_count)\n",
    "print(\"Lowercase letters:\", lower_count)"
   ]
  },
  {
   "cell_type": "code",
   "execution_count": null,
   "id": "e3c0de19-236f-41ad-8dba-852ce8075a01",
   "metadata": {},
   "outputs": [],
   "source": []
  }
 ],
 "metadata": {
  "kernelspec": {
   "display_name": "Python 3 (ipykernel)",
   "language": "python",
   "name": "python3"
  },
  "language_info": {
   "codemirror_mode": {
    "name": "ipython",
    "version": 3
   },
   "file_extension": ".py",
   "mimetype": "text/x-python",
   "name": "python",
   "nbconvert_exporter": "python",
   "pygments_lexer": "ipython3",
   "version": "3.12.7"
  }
 },
 "nbformat": 4,
 "nbformat_minor": 5
}
