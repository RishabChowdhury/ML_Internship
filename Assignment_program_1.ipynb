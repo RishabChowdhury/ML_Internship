{
 "cells": [
  {
   "cell_type": "markdown",
   "id": "659ee179-9b56-4864-a74f-94f102075932",
   "metadata": {},
   "source": [
    "### Assignment Programs 1"
   ]
  },
  {
   "cell_type": "markdown",
   "id": "2e6d7a87-db17-4da4-b035-c791e725771f",
   "metadata": {},
   "source": [
    "### 1) print numbers from 1 to 10"
   ]
  },
  {
   "cell_type": "code",
   "execution_count": 1,
   "id": "ef185f37-bddc-427f-ac90-1f75cd7212ff",
   "metadata": {},
   "outputs": [
    {
     "name": "stdout",
     "output_type": "stream",
     "text": [
      "1\n",
      "2\n",
      "3\n",
      "4\n",
      "5\n",
      "6\n",
      "7\n",
      "8\n",
      "9\n",
      "10\n"
     ]
    }
   ],
   "source": [
    "for i in range(1, 11):\n",
    "    print(i)"
   ]
  },
  {
   "cell_type": "markdown",
   "id": "41a291ef-00e9-42c8-807d-e04099844a79",
   "metadata": {},
   "source": [
    "### 2) print even numbers between 1 to 20"
   ]
  },
  {
   "cell_type": "code",
   "execution_count": 4,
   "id": "ce01a45d-f039-4925-8033-c2dd76edef1a",
   "metadata": {},
   "outputs": [
    {
     "name": "stdout",
     "output_type": "stream",
     "text": [
      "2\n",
      "4\n",
      "6\n",
      "8\n",
      "10\n",
      "12\n",
      "14\n",
      "16\n",
      "18\n",
      "20\n"
     ]
    }
   ],
   "source": [
    "for i in range(1, 21):\n",
    "    if i % 2 == 0:  \n",
    "        print(i)"
   ]
  },
  {
   "cell_type": "markdown",
   "id": "9293810b-d3d9-4788-a32e-48138f538eb8",
   "metadata": {},
   "source": [
    "### 3) check a number is postive negative or zero"
   ]
  },
  {
   "cell_type": "code",
   "execution_count": 10,
   "id": "c48800c3-77d4-45bd-9e2c-23a031dd7d5c",
   "metadata": {},
   "outputs": [
    {
     "name": "stdout",
     "output_type": "stream",
     "text": [
      "Enter a number:  0\n"
     ]
    },
    {
     "name": "stdout",
     "output_type": "stream",
     "text": [
      "The number is zero.\n"
     ]
    }
   ],
   "source": [
    "num = float(input(\"Enter a number: \"))\n",
    "if num > 0:\n",
    "    print(\"The number is positive.\")\n",
    "elif num < 0:\n",
    "    print(\"The number is negative.\")\n",
    "else:\n",
    "    print(\"The number is zero.\")"
   ]
  },
  {
   "cell_type": "markdown",
   "id": "6de22f36-834f-4904-90d9-1159f2b7616a",
   "metadata": {},
   "source": [
    "### 4) adding two numbers using opeartors"
   ]
  },
  {
   "cell_type": "code",
   "execution_count": 11,
   "id": "fcd0235f-b215-4205-9b00-59f4bf5730bd",
   "metadata": {},
   "outputs": [
    {
     "name": "stdout",
     "output_type": "stream",
     "text": [
      "Enter first number:  7.8\n",
      "Enter second number:  8.9\n"
     ]
    },
    {
     "name": "stdout",
     "output_type": "stream",
     "text": [
      "The sum is: 16.7\n"
     ]
    }
   ],
   "source": [
    "num1 = float(input(\"Enter first number: \"))\n",
    "num2 = float(input(\"Enter second number: \"))\n",
    "sum = num1 + num2\n",
    "print(\"The sum is:\", sum)"
   ]
  },
  {
   "cell_type": "markdown",
   "id": "1a7b128b-aaed-4a57-988b-79a2656c70cf",
   "metadata": {},
   "source": [
    "### 5) multipliaction table"
   ]
  },
  {
   "cell_type": "code",
   "execution_count": 5,
   "id": "a007060a-746a-4009-a6c1-f2666a530b20",
   "metadata": {},
   "outputs": [
    {
     "name": "stdout",
     "output_type": "stream",
     "text": [
      "Enter a number:  7\n"
     ]
    },
    {
     "name": "stdout",
     "output_type": "stream",
     "text": [
      "7 x 1 = 7\n",
      "7 x 2 = 14\n",
      "7 x 3 = 21\n",
      "7 x 4 = 28\n",
      "7 x 5 = 35\n",
      "7 x 6 = 42\n",
      "7 x 7 = 49\n",
      "7 x 8 = 56\n",
      "7 x 9 = 63\n",
      "7 x 10 = 70\n"
     ]
    }
   ],
   "source": [
    "num = int(input(\"Enter a number: \"))\n",
    "for i in range(1, 11):\n",
    "    print(f\"{num} x {i} = {num * i}\")"
   ]
  },
  {
   "cell_type": "markdown",
   "id": "2c7d6c3f-7c02-4504-a6a0-b34fcd07aac9",
   "metadata": {},
   "source": [
    "### 6) Find the largest among two numbers"
   ]
  },
  {
   "cell_type": "code",
   "execution_count": 24,
   "id": "30659d5e-c609-4d64-aed7-f2c79d79b85c",
   "metadata": {},
   "outputs": [
    {
     "name": "stdout",
     "output_type": "stream",
     "text": [
      "Enter first number:  56\n",
      "Enter second number:  21\n"
     ]
    },
    {
     "name": "stdout",
     "output_type": "stream",
     "text": [
      "The larger number is 56.0\n"
     ]
    }
   ],
   "source": [
    "num1 = float(input(\"Enter first number: \"))\n",
    "num2 = float(input(\"Enter second number: \"))\n",
    "if num1 > num2:\n",
    "    print(f\"The larger number is {num1}\")\n",
    "elif num2 > num1:\n",
    "    print(f\"The larger number is {num2}\")\n",
    "else:\n",
    "    print(\"Both numbers are equal.\")"
   ]
  },
  {
   "cell_type": "markdown",
   "id": "0897a87a-266b-4c17-9a53-f6ec1e0ef176",
   "metadata": {},
   "source": [
    "### 7) Use a while loop to print numbers 5 to 1"
   ]
  },
  {
   "cell_type": "code",
   "execution_count": 25,
   "id": "a1d4ef8e-afbb-4a59-91a3-9371832fdc01",
   "metadata": {},
   "outputs": [
    {
     "name": "stdout",
     "output_type": "stream",
     "text": [
      "5\n",
      "4\n",
      "3\n",
      "2\n",
      "1\n"
     ]
    }
   ],
   "source": [
    "num = 5\n",
    "while num >= 1:\n",
    "    print(num)\n",
    "    num -= 1"
   ]
  },
  {
   "cell_type": "markdown",
   "id": "2649e7a2-3aa3-4e52-b866-7aa641e883d0",
   "metadata": {},
   "source": [
    "### 8) Print all characters in a string"
   ]
  },
  {
   "cell_type": "code",
   "execution_count": 30,
   "id": "91a6ab52-033a-4cde-b36d-a49cdd826035",
   "metadata": {},
   "outputs": [
    {
     "name": "stdout",
     "output_type": "stream",
     "text": [
      "Enter a string:  hello world\n"
     ]
    },
    {
     "name": "stdout",
     "output_type": "stream",
     "text": [
      "h\n",
      "e\n",
      "l\n",
      "l\n",
      "o\n",
      " \n",
      "w\n",
      "o\n",
      "r\n",
      "l\n",
      "d\n"
     ]
    }
   ],
   "source": [
    "string = input(\"Enter a string: \")\n",
    "for char in string:\n",
    "    print(char)"
   ]
  },
  {
   "cell_type": "markdown",
   "id": "449372f9-9942-410d-ad1a-8fb609b19301",
   "metadata": {},
   "source": [
    "### 9) Use logical operator to check if a number is between 10 and 50"
   ]
  },
  {
   "cell_type": "code",
   "execution_count": 36,
   "id": "69688964-a24b-4eb5-85a3-67ee0849de03",
   "metadata": {},
   "outputs": [
    {
     "name": "stdout",
     "output_type": "stream",
     "text": [
      "Enter a number:  24\n"
     ]
    },
    {
     "name": "stdout",
     "output_type": "stream",
     "text": [
      "The number is between 10 and 50.\n"
     ]
    }
   ],
   "source": [
    "num = float(input(\"Enter a number: \"))\n",
    "if 10 <= num <= 50:\n",
    "    print(\"The number is between 10 and 50.\")\n",
    "else:\n",
    "    print(\"The number is outside the range.\")"
   ]
  },
  {
   "cell_type": "markdown",
   "id": "45bdb33c-2763-4dc3-8289-a8239e8ff132",
   "metadata": {},
   "source": [
    "### 10) Sum of first 10 natural numbers"
   ]
  },
  {
   "cell_type": "code",
   "execution_count": 39,
   "id": "95ac4b77-b11f-4b08-b2b9-f173f3e0271f",
   "metadata": {},
   "outputs": [
    {
     "name": "stdout",
     "output_type": "stream",
     "text": [
      "enter a number 10\n"
     ]
    },
    {
     "name": "stdout",
     "output_type": "stream",
     "text": [
      "The sum is: 55\n"
     ]
    }
   ],
   "source": [
    "n = int(input(\"enter a number\"))\n",
    "sum_natural = (n * (n + 1)) // 2\n",
    "print(\"The sum is:\", sum_natural)"
   ]
  },
  {
   "cell_type": "markdown",
   "id": "c88cf5af-3ddb-4fae-be86-0798d690f367",
   "metadata": {},
   "source": [
    "### 11) Print \"Odd\" or \"Even\" for numbers 1 to 10"
   ]
  },
  {
   "cell_type": "code",
   "execution_count": 1,
   "id": "b618af9f-60af-44d1-875d-e16a49997798",
   "metadata": {},
   "outputs": [
    {
     "name": "stdout",
     "output_type": "stream",
     "text": [
      "1 is Odd\n",
      "2 is Even\n",
      "3 is Odd\n",
      "4 is Even\n",
      "5 is Odd\n",
      "6 is Even\n",
      "7 is Odd\n",
      "8 is Even\n",
      "9 is Odd\n",
      "10 is Even\n"
     ]
    }
   ],
   "source": [
    "for i in range(1, 11):\n",
    "    if i % 2 == 0:\n",
    "        print(f\"{i} is Even\")\n",
    "    else:\n",
    "        print(f\"{i} is Odd\")"
   ]
  },
  {
   "cell_type": "markdown",
   "id": "f06b28d9-18a1-49a2-bd08-a6a5494f9e9c",
   "metadata": {},
   "source": [
    "### 12) Use “break” to stop loop when number is 5"
   ]
  },
  {
   "cell_type": "code",
   "execution_count": 1,
   "id": "9535bd84-941b-4234-b391-be7f3106a40f",
   "metadata": {},
   "outputs": [
    {
     "name": "stdout",
     "output_type": "stream",
     "text": [
      "1\n",
      "2\n",
      "3\n",
      "4\n"
     ]
    }
   ],
   "source": [
    "for i in range(1, 11):\n",
    "    if i == 5:\n",
    "        break \n",
    "    print(i)"
   ]
  },
  {
   "cell_type": "markdown",
   "id": "9f017b08-3b1e-4a29-ba64-dee7775fed0f",
   "metadata": {},
   "source": [
    "### 13) Print 1 to 10 and use continue to skip printing 5"
   ]
  },
  {
   "cell_type": "code",
   "execution_count": 2,
   "id": "6026ebcb-c9ef-4f0a-8c25-7bd46dab48e7",
   "metadata": {},
   "outputs": [
    {
     "name": "stdout",
     "output_type": "stream",
     "text": [
      "1\n",
      "2\n",
      "3\n",
      "4\n",
      "6\n",
      "7\n",
      "8\n",
      "9\n",
      "10\n"
     ]
    }
   ],
   "source": [
    "for i in range(1, 11):\n",
    "    if i == 5:\n",
    "        continue\n",
    "    print(i)"
   ]
  },
  {
   "cell_type": "markdown",
   "id": "2bd8e815-847b-4ecc-a4ba-b6bb8fd46390",
   "metadata": {},
   "source": [
    "### 14) Print all elements in a list using a loop"
   ]
  },
  {
   "cell_type": "code",
   "execution_count": 3,
   "id": "cfafba40-419e-4573-ba46-b6fd92abef06",
   "metadata": {},
   "outputs": [
    {
     "name": "stdout",
     "output_type": "stream",
     "text": [
      "10\n",
      "20\n",
      "30\n",
      "40\n",
      "50\n"
     ]
    }
   ],
   "source": [
    "my_list = [10, 20, 30, 40, 50]\n",
    "for item in my_list:\n",
    "    print(item)"
   ]
  },
  {
   "cell_type": "markdown",
   "id": "834613c2-a1c3-41c3-ad38-0e6c79559424",
   "metadata": {},
   "source": [
    "### 15) Check if a number is divisible by both 3 and 5"
   ]
  },
  {
   "cell_type": "code",
   "execution_count": 4,
   "id": "3a883990-3be9-4d0a-921d-faa63414aab9",
   "metadata": {},
   "outputs": [
    {
     "name": "stdout",
     "output_type": "stream",
     "text": [
      "Enter a number:  15\n"
     ]
    },
    {
     "name": "stdout",
     "output_type": "stream",
     "text": [
      "15 is divisible by both 3 and 5.\n"
     ]
    }
   ],
   "source": [
    "num = int(input(\"Enter a number: \"))\n",
    "if num % 3 == 0 and num % 5 == 0:\n",
    "    print(f\"{num} is divisible by both 3 and 5.\")\n",
    "else:\n",
    "    print(f\"{num} is not divisible by both 3 and 5.\")"
   ]
  },
  {
   "cell_type": "markdown",
   "id": "a139a773-b786-4c87-8f30-35edc8d59bb7",
   "metadata": {},
   "source": [
    "### 16) Square of all numbers from 1 to 5"
   ]
  },
  {
   "cell_type": "code",
   "execution_count": 5,
   "id": "955ee986-6c18-4b2d-ba8c-7542d36e2ad6",
   "metadata": {},
   "outputs": [
    {
     "name": "stdout",
     "output_type": "stream",
     "text": [
      "The square of 1 is 1\n",
      "The square of 2 is 4\n",
      "The square of 3 is 9\n",
      "The square of 4 is 16\n",
      "The square of 5 is 25\n"
     ]
    }
   ],
   "source": [
    "for num in range(1, 6):\n",
    "    print(f\"The square of {num} is {num ** 2}\")"
   ]
  },
  {
   "cell_type": "markdown",
   "id": "5a7ec4c0-2053-4a38-892d-057d29286511",
   "metadata": {},
   "source": [
    "### 17) Print ASCII values of characters in a string"
   ]
  },
  {
   "cell_type": "code",
   "execution_count": 10,
   "id": "71bba9bb-fdc6-4831-90a9-78c0922ba025",
   "metadata": {},
   "outputs": [
    {
     "name": "stdout",
     "output_type": "stream",
     "text": [
      "Enter a string:  RISHAB\n"
     ]
    },
    {
     "name": "stdout",
     "output_type": "stream",
     "text": [
      "ASCII value of 'R' is 82\n",
      "ASCII value of 'I' is 73\n",
      "ASCII value of 'S' is 83\n",
      "ASCII value of 'H' is 72\n",
      "ASCII value of 'A' is 65\n",
      "ASCII value of 'B' is 66\n"
     ]
    }
   ],
   "source": [
    "string = input(\"Enter a string: \")\n",
    "for char in string:\n",
    "    print(f\"ASCII value of '{char}' is {ord(char)}\")"
   ]
  },
  {
   "cell_type": "markdown",
   "id": "64541f28-21a9-4777-9f15-39ce8a4b42d3",
   "metadata": {},
   "source": [
    "### 18) Count down from 10 to 1 using while"
   ]
  },
  {
   "cell_type": "code",
   "execution_count": 11,
   "id": "673ecafd-fa80-495d-8d03-4ff1c5d29991",
   "metadata": {},
   "outputs": [
    {
     "name": "stdout",
     "output_type": "stream",
     "text": [
      "10\n",
      "9\n",
      "8\n",
      "7\n",
      "6\n",
      "5\n",
      "4\n",
      "3\n",
      "2\n",
      "1\n"
     ]
    }
   ],
   "source": [
    "num = 10\n",
    "while num >= 1:\n",
    "    print(num)\n",
    "    num -= 1"
   ]
  },
  {
   "cell_type": "markdown",
   "id": "219988ac-b992-4f6c-a153-00acb7f3fd74",
   "metadata": {},
   "source": [
    "### 19) Check if a number is divisible by 2 or 3"
   ]
  },
  {
   "cell_type": "code",
   "execution_count": 20,
   "id": "832a2e59-1997-4b4d-8737-e9f53f229c5e",
   "metadata": {},
   "outputs": [
    {
     "name": "stdout",
     "output_type": "stream",
     "text": [
      "Enter a number:  6\n"
     ]
    },
    {
     "name": "stdout",
     "output_type": "stream",
     "text": [
      "6 is divisible by both 2 and 3.\n"
     ]
    }
   ],
   "source": [
    "num = int(input(\"Enter a number: \"))\n",
    "if num % 2 == 0 and num % 3 == 0:\n",
    "    print(f\"{num} is divisible by both 2 and 3.\")\n",
    "elif num % 2 == 0:\n",
    "    print(f\"{num} is divisible by 2.\")\n",
    "elif num % 3 == 0:\n",
    "    print(f\"{num} is divisible by 3.\")\n",
    "else:\n",
    "    print(f\"{num} is not divisible by 2 or 3.\")"
   ]
  },
  {
   "cell_type": "markdown",
   "id": "51894de3-41ec-4e96-8835-f7131e0192ce",
   "metadata": {},
   "source": [
    "### 20) Print sum of digits of a number"
   ]
  },
  {
   "cell_type": "code",
   "execution_count": 7,
   "id": "29423554-8c5a-41aa-a780-723310b6e4b2",
   "metadata": {},
   "outputs": [
    {
     "name": "stdout",
     "output_type": "stream",
     "text": [
      "Enter a number:  123\n"
     ]
    },
    {
     "name": "stdout",
     "output_type": "stream",
     "text": [
      "Sum of digits: 6\n"
     ]
    }
   ],
   "source": [
    "num = int(input(\"Enter a number: \"))\n",
    "sum_digits = 0\n",
    "while num > 0:\n",
    "    sum_digits += num % 10\n",
    "    num //= 10  \n",
    "print(\"Sum of digits:\", sum_digits)"
   ]
  },
  {
   "cell_type": "markdown",
   "id": "36198abe-d864-4e6b-a8bf-2d6ccdd9d9d1",
   "metadata": {},
   "source": [
    "### 21) Swap two numbers using a temporary variable"
   ]
  },
  {
   "cell_type": "code",
   "execution_count": 9,
   "id": "5e4bba5e-a5b0-4f6a-87c6-32f2dec19d20",
   "metadata": {},
   "outputs": [
    {
     "name": "stdout",
     "output_type": "stream",
     "text": [
      "Enter first number:  8\n",
      "Enter second number:  4\n"
     ]
    },
    {
     "name": "stdout",
     "output_type": "stream",
     "text": [
      "After swapping:\n",
      "First number: 4\n",
      "Second number: 8\n"
     ]
    }
   ],
   "source": [
    "num1 = int(input(\"Enter first number: \"))\n",
    "num2 = int(input(\"Enter second number: \"))\n",
    "temp = num1\n",
    "num1 = num2\n",
    "num2 = temp\n",
    "print(\"After swapping:\")\n",
    "print(\"First number:\", num1)\n",
    "print(\"Second number:\", num2)"
   ]
  },
  {
   "cell_type": "markdown",
   "id": "636825a7-a14a-4f23-83f9-a2cb5fc2f81d",
   "metadata": {},
   "source": [
    "### 22) Print numbers from 1 to 100 that are divisible by 7"
   ]
  },
  {
   "cell_type": "code",
   "execution_count": 10,
   "id": "c997ebba-50bb-464c-81c4-c8b2c9c64330",
   "metadata": {},
   "outputs": [
    {
     "name": "stdout",
     "output_type": "stream",
     "text": [
      "7\n",
      "14\n",
      "21\n",
      "28\n",
      "35\n",
      "42\n",
      "49\n",
      "56\n",
      "63\n",
      "70\n",
      "77\n",
      "84\n",
      "91\n",
      "98\n"
     ]
    }
   ],
   "source": [
    "for num in range(1, 101):\n",
    "    if num % 7 == 0:\n",
    "        print(num)"
   ]
  },
  {
   "cell_type": "markdown",
   "id": "842b566c-7fa9-4760-9c49-5a00cd3d272f",
   "metadata": {},
   "source": [
    "### 23) Find the factorial of a number"
   ]
  },
  {
   "cell_type": "code",
   "execution_count": 11,
   "id": "52926adf-5749-4635-b335-0f8a6e45a086",
   "metadata": {},
   "outputs": [
    {
     "name": "stdout",
     "output_type": "stream",
     "text": [
      "Enter a number:  5\n"
     ]
    },
    {
     "name": "stdout",
     "output_type": "stream",
     "text": [
      "Factorial of 5 is 120\n"
     ]
    }
   ],
   "source": [
    "def factorial(n):\n",
    "    if n == 0 or n == 1:\n",
    "        return 1\n",
    "    return n * factorial(n - 1)\n",
    "num = int(input(\"Enter a number: \"))\n",
    "print(f\"Factorial of {num} is {factorial(num)}\")"
   ]
  },
  {
   "cell_type": "markdown",
   "id": "f38a9831-5914-403b-89cd-d79b564e95c4",
   "metadata": {},
   "source": [
    "### 24) Count vowels in a string"
   ]
  },
  {
   "cell_type": "code",
   "execution_count": 15,
   "id": "c0e7ee35-8c91-4798-9100-ac8685e88092",
   "metadata": {},
   "outputs": [
    {
     "name": "stdout",
     "output_type": "stream",
     "text": [
      "Enter a string:  apple\n"
     ]
    },
    {
     "name": "stdout",
     "output_type": "stream",
     "text": [
      "Number of vowels in the string: 2\n"
     ]
    }
   ],
   "source": [
    "string = input(\"Enter a string: \")\n",
    "vowel_count = 0\n",
    "vowels = \"aeiouAEIOU\"\n",
    "for char in string:\n",
    "    if char in vowels:\n",
    "        vowel_count += 1\n",
    "print(f\"Number of vowels in the string: {vowel_count}\")"
   ]
  },
  {
   "cell_type": "markdown",
   "id": "7619624b-2abd-42d5-ac68-9dfcb0b996c6",
   "metadata": {},
   "source": [
    "### 25) Reverse a number using loop"
   ]
  },
  {
   "cell_type": "code",
   "execution_count": 18,
   "id": "a8dbf3cb-520d-4017-be5d-9ace9b68207b",
   "metadata": {},
   "outputs": [
    {
     "name": "stdout",
     "output_type": "stream",
     "text": [
      "Enter a number:  123\n"
     ]
    },
    {
     "name": "stdout",
     "output_type": "stream",
     "text": [
      "Reversed number: 321\n"
     ]
    }
   ],
   "source": [
    "num = int(input(\"Enter a number: \"))\n",
    "reverse = 0\n",
    "while num > 0:\n",
    "    digit = num % 10  \n",
    "    reverse = (reverse * 10) + digit\n",
    "    num //= 10 \n",
    "print(f\"Reversed number: {reverse}\")"
   ]
  },
  {
   "cell_type": "markdown",
   "id": "edabbdd4-b070-4c11-beb4-7bc57c155c51",
   "metadata": {},
   "source": [
    "### 26) Find the maximum in a list using loop "
   ]
  },
  {
   "cell_type": "code",
   "execution_count": 21,
   "id": "b131886b-8dbb-4c52-91d7-1920b1d38f8a",
   "metadata": {},
   "outputs": [
    {
     "name": "stdout",
     "output_type": "stream",
     "text": [
      "The maximum number is: 112\n"
     ]
    }
   ],
   "source": [
    "numbers = [112, 45, 78, 23, 56, 89, 94]  \n",
    "max_number = numbers[0] \n",
    "for num in numbers:\n",
    "    if num > max_number:\n",
    "        max_number = num\n",
    "print(\"The maximum number is:\", max_number)"
   ]
  },
  {
   "cell_type": "markdown",
   "id": "2fcef14e-15ef-49fe-887b-80728cf06f0e",
   "metadata": {},
   "source": [
    "### 27) Prime number check using loop"
   ]
  },
  {
   "cell_type": "code",
   "execution_count": 23,
   "id": "0779e950-5a89-4729-99c4-69f3657721ee",
   "metadata": {},
   "outputs": [
    {
     "name": "stdout",
     "output_type": "stream",
     "text": [
      "Enter a number:  25\n"
     ]
    },
    {
     "name": "stdout",
     "output_type": "stream",
     "text": [
      "25 is not a prime number.\n"
     ]
    }
   ],
   "source": [
    "num = int(input(\"Enter a number: \"))\n",
    "if num <= 1:\n",
    "    print(f\"{num} is not a prime number.\")\n",
    "else:\n",
    "    is_prime = True\n",
    "    for i in range(2, int(num ** 0.5) + 1):\n",
    "        if num % i == 0:\n",
    "            is_prime = False\n",
    "            break\n",
    "    if is_prime:\n",
    "        print(f\"{num} is a prime number.\")\n",
    "    else:\n",
    "        print(f\"{num} is not a prime number.\")"
   ]
  },
  {
   "cell_type": "markdown",
   "id": "21592952-77ad-4ad5-83d5-0a000b390ccd",
   "metadata": {},
   "source": [
    "### 28) Sum of even numbers in a list"
   ]
  },
  {
   "cell_type": "code",
   "execution_count": 29,
   "id": "d8c1af8c-fca0-404c-a3b9-80b39627271f",
   "metadata": {},
   "outputs": [
    {
     "name": "stdout",
     "output_type": "stream",
     "text": [
      "Sum of even numbers: 30\n"
     ]
    }
   ],
   "source": [
    "numbers = [0, 1, 2, 3, 4, 5, 6, 7, 8, 9, 10] \n",
    "sum_even = 0\n",
    "for num in numbers:\n",
    "    if num % 2 == 0:  \n",
    "        sum_even += num  \n",
    "print(\"Sum of even numbers:\", sum_even)"
   ]
  },
  {
   "cell_type": "markdown",
   "id": "1da6b81f-8ab3-47b3-b97b-8a9885afd4ff",
   "metadata": {},
   "source": [
    "### 29) Print number pattern using nested loops"
   ]
  },
  {
   "cell_type": "code",
   "execution_count": 30,
   "id": "c1cb2782-996e-479a-a4d1-8249a96d4b99",
   "metadata": {},
   "outputs": [
    {
     "name": "stdout",
     "output_type": "stream",
     "text": [
      "Enter the number of rows:  5\n"
     ]
    },
    {
     "name": "stdout",
     "output_type": "stream",
     "text": [
      "1 \n",
      "1 2 \n",
      "1 2 3 \n",
      "1 2 3 4 \n",
      "1 2 3 4 5 \n"
     ]
    }
   ],
   "source": [
    "rows = int(input(\"Enter the number of rows: \"))\n",
    "for i in range(1, rows + 1):  \n",
    "    for j in range(1, i + 1):\n",
    "        print(j, end=\" \")\n",
    "    print() "
   ]
  },
  {
   "cell_type": "markdown",
   "id": "ba9888cc-1650-43da-ba11-1ca7170f3f8e",
   "metadata": {},
   "source": [
    "### 30) Count frequency of digits in a number"
   ]
  },
  {
   "cell_type": "code",
   "execution_count": 31,
   "id": "b1470649-a04f-4930-bb7f-9b5a63a7f6a6",
   "metadata": {},
   "outputs": [
    {
     "name": "stdout",
     "output_type": "stream",
     "text": [
      "Enter a number:  1231223212\n"
     ]
    },
    {
     "name": "stdout",
     "output_type": "stream",
     "text": [
      "Digit Frequency: {'1': 3, '2': 5, '3': 2}\n"
     ]
    }
   ],
   "source": [
    "num = input(\"Enter a number: \")\n",
    "digit_count = {}\n",
    "for digit in num:\n",
    "    if digit.isdigit():\n",
    "        digit_count[digit] = digit_count.get(digit, 0) + 1\n",
    "print(\"Digit Frequency:\", digit_count)"
   ]
  },
  {
   "cell_type": "markdown",
   "id": "84f6b336-1c50-4927-9c80-1f6b200be3f2",
   "metadata": {},
   "source": [
    "### 31) GCD of two numbers using loop"
   ]
  },
  {
   "cell_type": "code",
   "execution_count": 35,
   "id": "bf29971b-5756-49e9-a068-a1b16c9fb7a8",
   "metadata": {},
   "outputs": [
    {
     "name": "stdout",
     "output_type": "stream",
     "text": [
      "Enter first number:  30\n",
      "Enter second number:  60\n"
     ]
    },
    {
     "name": "stdout",
     "output_type": "stream",
     "text": [
      "GCD of the numbers is 30\n"
     ]
    }
   ],
   "source": [
    "a = int(input(\"Enter first number: \"))\n",
    "b = int(input(\"Enter second number: \"))\n",
    "while b:\n",
    "    a, b = b, a % b\n",
    "print(f\"GCD of the numbers is {a}\")"
   ]
  },
  {
   "cell_type": "markdown",
   "id": "1a159e30-fa1d-4df3-ac54-569ddf37f94e",
   "metadata": {},
   "source": [
    "### 32) Check if a number is a palindrome"
   ]
  },
  {
   "cell_type": "code",
   "execution_count": 37,
   "id": "0f4fe83a-fa60-4fab-becd-3359e89bc302",
   "metadata": {},
   "outputs": [
    {
     "name": "stdout",
     "output_type": "stream",
     "text": [
      "Enter a number:  121\n"
     ]
    },
    {
     "name": "stdout",
     "output_type": "stream",
     "text": [
      "121 is a palindrome.\n"
     ]
    }
   ],
   "source": [
    "num = int(input(\"Enter a number: \"))\n",
    "original_num = num\n",
    "reverse = 0\n",
    "while num > 0:\n",
    "    digit = num % 10  \n",
    "    reverse = (reverse * 10) + digit  \n",
    "    num //= 10  \n",
    "if original_num == reverse:\n",
    "    print(f\"{original_num} is a palindrome.\")\n",
    "else:\n",
    "    print(f\"{original_num} is not a palindrome.\")"
   ]
  },
  {
   "cell_type": "markdown",
   "id": "3727a0ab-43d7-4576-a578-995f66181f4d",
   "metadata": {},
   "source": [
    "### 33) Count words in a sentence"
   ]
  },
  {
   "cell_type": "code",
   "execution_count": 44,
   "id": "0e336107-0d39-43c1-932f-0c9fb79287ed",
   "metadata": {},
   "outputs": [
    {
     "name": "stdout",
     "output_type": "stream",
     "text": [
      "Enter a sentence:  hi how are you doing\n"
     ]
    },
    {
     "name": "stdout",
     "output_type": "stream",
     "text": [
      "Number of words in the sentence: 5\n"
     ]
    }
   ],
   "source": [
    "sentence = input(\"Enter a sentence: \")\n",
    "word_count = len(sentence.split())\n",
    "print(f\"Number of words in the sentence: {word_count}\")"
   ]
  },
  {
   "cell_type": "markdown",
   "id": "67657fc9-c3e1-42be-be2e-14ebeb9ccc17",
   "metadata": {},
   "source": [
    "### 34) Find common elements in two lists"
   ]
  },
  {
   "cell_type": "code",
   "execution_count": 45,
   "id": "a73f081a-98be-40e2-a90b-06f371471329",
   "metadata": {},
   "outputs": [
    {
     "name": "stdout",
     "output_type": "stream",
     "text": [
      "Common elements: [40, 50, 30]\n"
     ]
    }
   ],
   "source": [
    "list1 = [10, 20, 30, 40, 50]\n",
    "list2 = [30, 40, 50, 60, 70]\n",
    "common_elements = list(set(list1) & set(list2))\n",
    "print(\"Common elements:\", common_elements)"
   ]
  },
  {
   "cell_type": "markdown",
   "id": "099187d4-f513-4826-8824-604515885cf1",
   "metadata": {},
   "source": [
    "### 35) Use elif to grade students based on score"
   ]
  },
  {
   "cell_type": "code",
   "execution_count": 50,
   "id": "25f95489-b210-4c75-82c9-48ddbca28e65",
   "metadata": {},
   "outputs": [
    {
     "name": "stdout",
     "output_type": "stream",
     "text": [
      "Enter the student's score:  95\n"
     ]
    },
    {
     "name": "stdout",
     "output_type": "stream",
     "text": [
      "The student's grade is: A\n"
     ]
    }
   ],
   "source": [
    "score = int(input(\"Enter the student's score: \"))\n",
    "if score >= 90:\n",
    "    grade = \"A\"\n",
    "elif score >= 80:\n",
    "    grade = \"B\"\n",
    "elif score >= 70:\n",
    "    grade = \"C\"\n",
    "elif score >= 60:\n",
    "    grade = \"D\"\n",
    "elif score >= 50:\n",
    "    grade = \"E\"\n",
    "else:\n",
    "    grade = \"F\"\n",
    "print(f\"The student's grade is: {grade}\")"
   ]
  },
  {
   "cell_type": "markdown",
   "id": "cf33b945-ef78-4176-be59-195849584680",
   "metadata": {},
   "source": [
    "### 36) Print a right-angled triangle using *"
   ]
  },
  {
   "cell_type": "code",
   "execution_count": 51,
   "id": "e04c147f-0215-4723-bc7a-d89ea5a54a90",
   "metadata": {},
   "outputs": [
    {
     "name": "stdout",
     "output_type": "stream",
     "text": [
      "Enter the number of rows:  5\n"
     ]
    },
    {
     "name": "stdout",
     "output_type": "stream",
     "text": [
      "* \n",
      "* * \n",
      "* * * \n",
      "* * * * \n",
      "* * * * * \n"
     ]
    }
   ],
   "source": [
    "rows = int(input(\"Enter the number of rows: \"))\n",
    "for i in range(1, rows + 1):\n",
    "    for j in range(i): \n",
    "        print(\"*\", end=\" \")\n",
    "    print()  "
   ]
  },
  {
   "cell_type": "markdown",
   "id": "ada1a64e-9e05-4676-8fad-5ad076c4ffb6",
   "metadata": {},
   "source": [
    "### 37) Check if a year is a leap year "
   ]
  },
  {
   "cell_type": "code",
   "execution_count": 55,
   "id": "a1b04a76-2420-4bef-9779-6660d8d050bc",
   "metadata": {},
   "outputs": [
    {
     "name": "stdout",
     "output_type": "stream",
     "text": [
      "Enter a year:  2025\n"
     ]
    },
    {
     "name": "stdout",
     "output_type": "stream",
     "text": [
      "2025 is not a leap year.\n"
     ]
    }
   ],
   "source": [
    "year = int(input(\"Enter a year: \"))\n",
    "if (year % 4 == 0 and year % 100 != 0) or (year % 400 == 0):\n",
    "    print(f\"{year} is a leap year.\")\n",
    "else:\n",
    "    print(f\"{year} is not a leap year.\")"
   ]
  },
  {
   "cell_type": "markdown",
   "id": "780ab15d-7ccf-46f7-a0aa-76f5daea67dd",
   "metadata": {},
   "source": [
    "### 38) Print Fibonacci series using loop"
   ]
  },
  {
   "cell_type": "code",
   "execution_count": 59,
   "id": "83f28f62-6931-4649-80d2-01adf3ea7038",
   "metadata": {},
   "outputs": [
    {
     "name": "stdout",
     "output_type": "stream",
     "text": [
      "Enter the number of terms:  10\n"
     ]
    },
    {
     "name": "stdout",
     "output_type": "stream",
     "text": [
      "Fibonacci Series: 0 1 1 2 3 5 8 13 21 34 "
     ]
    }
   ],
   "source": [
    "num_terms = int(input(\"Enter the number of terms: \"))\n",
    "a, b = 0, 1\n",
    "print(\"Fibonacci Series:\", end=\" \")\n",
    "for i in range(num_terms):\n",
    "    print(a, end=\" \")\n",
    "    a, b = b, a + b  "
   ]
  },
  {
   "cell_type": "markdown",
   "id": "8cb58349-c0ce-4ca6-a17b-9117490d5a04",
   "metadata": {},
   "source": [
    "### 39) Count uppercase and lowercase letters in a string"
   ]
  },
  {
   "cell_type": "code",
   "execution_count": 62,
   "id": "93657d41-f47a-424b-8166-fa2b0a4b01e6",
   "metadata": {},
   "outputs": [
    {
     "name": "stdout",
     "output_type": "stream",
     "text": [
      "Enter a string:  hello HELLO\n"
     ]
    },
    {
     "name": "stdout",
     "output_type": "stream",
     "text": [
      "Uppercase letters: 5\n",
      "Lowercase letters: 5\n"
     ]
    }
   ],
   "source": [
    "string = input(\"Enter a string: \")\n",
    "uppercase_count = 0\n",
    "lowercase_count = 0\n",
    "for char in string:\n",
    "    if char.isupper():\n",
    "        uppercase_count += 1\n",
    "    elif char.islower():\n",
    "        lowercase_count += 1\n",
    "print(f\"Uppercase letters: {uppercase_count}\")\n",
    "print(f\"Lowercase letters: {lowercase_count}\")"
   ]
  },
  {
   "cell_type": "markdown",
   "id": "9c84d7c1-3ccf-4aae-be21-d36d33034d75",
   "metadata": {},
   "source": [
    "### 40) Print numbers from 100 to 1 using loop"
   ]
  },
  {
   "cell_type": "code",
   "execution_count": 66,
   "id": "c2e8ee56-75b3-4a16-9e2c-1625483b5574",
   "metadata": {},
   "outputs": [
    {
     "name": "stdout",
     "output_type": "stream",
     "text": [
      "100\n",
      "99\n",
      "98\n",
      "97\n",
      "96\n",
      "95\n",
      "94\n",
      "93\n",
      "92\n",
      "91\n",
      "90\n",
      "89\n",
      "88\n",
      "87\n",
      "86\n",
      "85\n",
      "84\n",
      "83\n",
      "82\n",
      "81\n",
      "80\n",
      "79\n",
      "78\n",
      "77\n",
      "76\n",
      "75\n",
      "74\n",
      "73\n",
      "72\n",
      "71\n",
      "70\n",
      "69\n",
      "68\n",
      "67\n",
      "66\n",
      "65\n",
      "64\n",
      "63\n",
      "62\n",
      "61\n",
      "60\n",
      "59\n",
      "58\n",
      "57\n",
      "56\n",
      "55\n",
      "54\n",
      "53\n",
      "52\n",
      "51\n",
      "50\n",
      "49\n",
      "48\n",
      "47\n",
      "46\n",
      "45\n",
      "44\n",
      "43\n",
      "42\n",
      "41\n",
      "40\n",
      "39\n",
      "38\n",
      "37\n",
      "36\n",
      "35\n",
      "34\n",
      "33\n",
      "32\n",
      "31\n",
      "30\n",
      "29\n",
      "28\n",
      "27\n",
      "26\n",
      "25\n",
      "24\n",
      "23\n",
      "22\n",
      "21\n",
      "20\n",
      "19\n",
      "18\n",
      "17\n",
      "16\n",
      "15\n",
      "14\n",
      "13\n",
      "12\n",
      "11\n",
      "10\n",
      "9\n",
      "8\n",
      "7\n",
      "6\n",
      "5\n",
      "4\n",
      "3\n",
      "2\n",
      "1\n"
     ]
    }
   ],
   "source": [
    "for num in range(100, 0, -1):\n",
    "    print(num)"
   ]
  }
 ],
 "metadata": {
  "kernelspec": {
   "display_name": "base",
   "language": "python",
   "name": "python3"
  },
  "language_info": {
   "codemirror_mode": {
    "name": "ipython",
    "version": 3
   },
   "file_extension": ".py",
   "mimetype": "text/x-python",
   "name": "python",
   "nbconvert_exporter": "python",
   "pygments_lexer": "ipython3",
   "version": "3.12.7"
  }
 },
 "nbformat": 4,
 "nbformat_minor": 5
}
