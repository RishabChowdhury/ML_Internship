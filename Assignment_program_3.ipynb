{
 "cells": [
  {
   "cell_type": "markdown",
   "id": "e0eaa1ac-1ec3-4b8f-8da2-271d340ab582",
   "metadata": {},
   "source": [
    "### 1) Create a simple class Person with name and age as attributes"
   ]
  },
  {
   "cell_type": "code",
   "execution_count": 2,
   "id": "1df4bcad-c39c-4949-a02c-fcaa12b2dea9",
   "metadata": {},
   "outputs": [
    {
     "name": "stdout",
     "output_type": "stream",
     "text": [
      "Name: Rishab, Age: 22\n"
     ]
    }
   ],
   "source": [
    "class Person:\n",
    "    def __init__(self, name, age):\n",
    "        self.name = name\n",
    "        self.age = age\n",
    "\n",
    "    def display(self):\n",
    "        print(f\"Name: {self.name}, Age: {self.age}\")\n",
    "\n",
    "person1 = Person(\"Rishab\", 22)\n",
    "person1.display()"
   ]
  },
  {
   "cell_type": "markdown",
   "id": "e5229e97-bb48-4d25-81ef-84ea1fbff9d1",
   "metadata": {},
   "source": [
    "### 2) Add a method to the Person class that prints a greeting"
   ]
  },
  {
   "cell_type": "code",
   "execution_count": 4,
   "id": "ffa1a7e2-1dfb-4b66-a959-1210e10266d5",
   "metadata": {},
   "outputs": [
    {
     "name": "stdout",
     "output_type": "stream",
     "text": [
      "Name: Rishab, Age: 22\n",
      "Hello, my name is Rishab! and my age is 22\n"
     ]
    }
   ],
   "source": [
    "class Person:\n",
    "    def __init__(self, name, age):\n",
    "        self.name = name\n",
    "        self.age = age\n",
    "\n",
    "    def display(self):\n",
    "        print(f\"Name: {self.name}, Age: {self.age}\")\n",
    "\n",
    "    def greet(self):\n",
    "        print(f\"Hello, my name is {self.name}! and my age is {self.age}\")\n",
    "\n",
    "person1 = Person(\"Rishab\", 22)\n",
    "person1.display()\n",
    "person1.greet()"
   ]
  },
  {
   "cell_type": "markdown",
   "id": "ef3d9f7b-9ee1-46ee-9386-e013fa758687",
   "metadata": {},
   "source": [
    "### 3) Create a class with a class variable and instance variable"
   ]
  },
  {
   "cell_type": "code",
   "execution_count": 5,
   "id": "6aa8b70a-9a95-4a9b-8b9a-c315f1d4493a",
   "metadata": {},
   "outputs": [
    {
     "name": "stdout",
     "output_type": "stream",
     "text": [
      "Class Variable: This is a class variable\n",
      "Instance Variable: Instance 1\n",
      "Class Variable: This is a class variable\n",
      "Instance Variable: Instance 2\n"
     ]
    }
   ],
   "source": [
    "class Example:\n",
    "    class_variable = \"This is a class variable\"\n",
    "\n",
    "    def __init__(self, instance_value):\n",
    "        self.instance_variable = instance_value\n",
    "\n",
    "    def display(self):\n",
    "        print(f\"Class Variable: {Example.class_variable}\")\n",
    "        print(f\"Instance Variable: {self.instance_variable}\")\n",
    "\n",
    "obj1 = Example(\"Instance 1\")\n",
    "obj2 = Example(\"Instance 2\")\n",
    "\n",
    "obj1.display()\n",
    "obj2.display()"
   ]
  },
  {
   "cell_type": "markdown",
   "id": "8eb81f01-f914-4473-a519-1c5c707c5c42",
   "metadata": {},
   "source": [
    "### 4) Create a private attribute in a class and access it using a method"
   ]
  },
  {
   "cell_type": "code",
   "execution_count": 7,
   "id": "c6928e64-06d8-49f9-807b-0138e1d55633",
   "metadata": {},
   "outputs": [
    {
     "name": "stdout",
     "output_type": "stream",
     "text": [
      "Name: Rishab\n",
      "Age: 22\n"
     ]
    }
   ],
   "source": [
    "class Person:\n",
    "    def __init__(self, name, age):\n",
    "        self.name = name\n",
    "        self.__age = age \n",
    "\n",
    "    def get_age(self):\n",
    "        return self.__age \n",
    "        \n",
    "person1 = Person(\"Rishab\", 22)\n",
    "print(\"Name:\", person1.name)\n",
    "print(\"Age:\", person1.get_age())"
   ]
  },
  {
   "cell_type": "markdown",
   "id": "ab35fc88-8b79-4eb8-9068-a50f5d361630",
   "metadata": {},
   "source": [
    "### 5) Create a class with a method that returns the square of a number"
   ]
  },
  {
   "cell_type": "code",
   "execution_count": 8,
   "id": "6d31ed4c-e31f-466a-b5f9-cc267d0b9628",
   "metadata": {},
   "outputs": [
    {
     "name": "stdin",
     "output_type": "stream",
     "text": [
      "Enter a number:  5\n"
     ]
    },
    {
     "name": "stdout",
     "output_type": "stream",
     "text": [
      "Square: 25\n"
     ]
    }
   ],
   "source": [
    "class SquareCalculator:\n",
    "    def square(self, number):\n",
    "        return number ** 2\n",
    "\n",
    "calculator = SquareCalculator()\n",
    "num = int(input(\"Enter a number: \"))\n",
    "print(\"Square:\", calculator.square(num))"
   ]
  },
  {
   "cell_type": "markdown",
   "id": "10ffb05b-0d9f-4afa-b50f-b2456d30261d",
   "metadata": {},
   "source": [
    "### 6) Create two objects of a class and demonstrate that they are independent"
   ]
  },
  {
   "cell_type": "code",
   "execution_count": 9,
   "id": "4b8ffbe4-c9e6-40e7-a8a0-22cfd2568de6",
   "metadata": {},
   "outputs": [
    {
     "name": "stdout",
     "output_type": "stream",
     "text": [
      "Name: Rishab, Age: 22\n",
      "Name: Ravi, Age: 25\n"
     ]
    }
   ],
   "source": [
    "class Person:\n",
    "    def __init__(self, name, age):\n",
    "        self.name = name\n",
    "        self.age = age\n",
    "\n",
    "    def display(self):\n",
    "        print(f\"Name: {self.name}, Age: {self.age}\")\n",
    "\n",
    "person1 = Person(\"Rishab\", 22)\n",
    "person2 = Person(\"Ravi\", 25)\n",
    "\n",
    "person1.display()\n",
    "person2.display()"
   ]
  },
  {
   "cell_type": "markdown",
   "id": "f22cc8ae-76a1-456c-8418-010716d601c8",
   "metadata": {},
   "source": [
    " ### 7) Create a class and use a method to set its attributes"
   ]
  },
  {
   "cell_type": "code",
   "execution_count": 1,
   "id": "fa3ac026-5c11-4cf1-a891-781cae98d70b",
   "metadata": {},
   "outputs": [
    {
     "name": "stdout",
     "output_type": "stream",
     "text": [
      "Name: Rishab, Age: 22\n"
     ]
    }
   ],
   "source": [
    "class Person:\n",
    "    def __init__(self):\n",
    "        self.name = None\n",
    "        self.age = None\n",
    "\n",
    "    def set_attributes(self, name, age):\n",
    "        self.name = name\n",
    "        self.age = age\n",
    "\n",
    "    def display(self):\n",
    "        print(f\"Name: {self.name}, Age: {self.age}\")\n",
    "\n",
    "person1 = Person()\n",
    "person1.set_attributes(\"Rishab\", 22)\n",
    "person1.display()"
   ]
  },
  {
   "cell_type": "markdown",
   "id": "d4c611b0-fa08-405d-a662-7ee3770f287c",
   "metadata": {},
   "source": [
    "### 8) Demonstrate use of isinstance() with a class"
   ]
  },
  {
   "cell_type": "code",
   "execution_count": 1,
   "id": "60ee94bd-f8aa-4eed-8034-3046b1f3a37f",
   "metadata": {},
   "outputs": [
    {
     "name": "stdout",
     "output_type": "stream",
     "text": [
      "True\n",
      "False\n"
     ]
    }
   ],
   "source": [
    "class Animal:\n",
    "    def __init__(self, name):\n",
    "        self.name = name\n",
    "\n",
    "dog = Animal(\"Buddy\")\n",
    "print(isinstance(dog, Animal))  \n",
    "print(isinstance(dog, str)) "
   ]
  },
  {
   "cell_type": "markdown",
   "id": "16398489-23e0-49d8-8654-aa432dba56aa",
   "metadata": {},
   "source": [
    "### 9) Demonstrate single inheritance in Python"
   ]
  },
  {
   "cell_type": "code",
   "execution_count": 2,
   "id": "3ac3d9a3-db85-4736-b154-9b55cb44dd85",
   "metadata": {},
   "outputs": [
    {
     "name": "stdout",
     "output_type": "stream",
     "text": [
      "Buddy says: Woof!\n"
     ]
    }
   ],
   "source": [
    "class Animal:\n",
    "    def __init__(self, name):\n",
    "        self.name = name\n",
    "\n",
    "    def speak(self):\n",
    "        return \"I make a sound.\"\n",
    "\n",
    "class Dog(Animal):\n",
    "    def speak(self):\n",
    "        return \"Woof!\"\n",
    "\n",
    "dog1 = Dog(\"Buddy\")\n",
    "print(f\"{dog1.name} says: {dog1.speak()}\")"
   ]
  },
  {
   "cell_type": "markdown",
   "id": "e64303be-e926-41e7-9ca6-23c39f581863",
   "metadata": {},
   "source": [
    "### 10) Create a base class and derive two child classes with different methods(multi level inheritance)"
   ]
  },
  {
   "cell_type": "code",
   "execution_count": 3,
   "id": "517a86fb-e157-4d4c-9d6d-c017add08fc5",
   "metadata": {},
   "outputs": [
    {
     "name": "stdout",
     "output_type": "stream",
     "text": [
      "Buddy says: Woof!\n",
      "Has fur: True\n"
     ]
    }
   ],
   "source": [
    "class Animal:\n",
    "    def __init__(self, name):\n",
    "        self.name = name\n",
    "\n",
    "    def speak(self):\n",
    "        return \"I make a sound.\"\n",
    "\n",
    "class Mammal(Animal):\n",
    "    def has_fur(self):\n",
    "        return True\n",
    "\n",
    "class Dog(Mammal):\n",
    "    def speak(self):\n",
    "        return \"Woof!\"\n",
    "\n",
    "dog1 = Dog(\"Buddy\")\n",
    "print(f\"{dog1.name} says: {dog1.speak()}\")\n",
    "print(f\"Has fur: {dog1.has_fur()}\")"
   ]
  },
  {
   "cell_type": "markdown",
   "id": "b4f8e225-239a-4dde-8a85-a8f5f70b13a1",
   "metadata": {},
   "source": [
    "### 11) Demonstrate method overriding in inheritance"
   ]
  },
  {
   "cell_type": "code",
   "execution_count": 4,
   "id": "0ed59256-8985-4e6a-a287-fdfc6394d6e3",
   "metadata": {},
   "outputs": [
    {
     "name": "stdout",
     "output_type": "stream",
     "text": [
      "Dog: Woof!\n",
      "Cat: Meow!\n"
     ]
    }
   ],
   "source": [
    "class Animal:\n",
    "    def speak(self):\n",
    "        return \"I make a sound.\"\n",
    "\n",
    "class Dog(Animal):\n",
    "    def speak(self):\n",
    "        return \"Woof!\"\n",
    "\n",
    "class Cat(Animal):\n",
    "    def speak(self):\n",
    "        return \"Meow!\"\n",
    "\n",
    "dog1 = Dog()\n",
    "cat1 = Cat()\n",
    "\n",
    "print(\"Dog:\", dog1.speak())\n",
    "print(\"Cat:\", cat1.speak())"
   ]
  },
  {
   "cell_type": "markdown",
   "id": "48f8daf1-2fd6-4687-89ab-1d0042dddf94",
   "metadata": {},
   "source": [
    "### 12) Use super() to call a parent class method"
   ]
  },
  {
   "cell_type": "code",
   "execution_count": 6,
   "id": "feaee298-7443-4e19-8d4e-aa86b30c2ff1",
   "metadata": {},
   "outputs": [
    {
     "name": "stdout",
     "output_type": "stream",
     "text": [
      "Dog: I make a sound. But specifically, Woof!\n"
     ]
    }
   ],
   "source": [
    "class Animal:\n",
    "    def speak(self):\n",
    "        return \"I make a sound.\"\n",
    "\n",
    "class Dog(Animal):\n",
    "    def speak(self):\n",
    "        return super().speak() + \" But specifically, Woof!\"\n",
    "\n",
    "dog1 = Dog()\n",
    "print(\"Dog:\", dog1.speak())"
   ]
  },
  {
   "cell_type": "markdown",
   "id": "adead6f2-aada-499b-bcab-03b82ced6e5f",
   "metadata": {},
   "source": [
    "### 13) Create an abstract base class using `abc` module"
   ]
  },
  {
   "cell_type": "code",
   "execution_count": 7,
   "id": "3696d25e-8587-4fa5-a6d0-94bc91510022",
   "metadata": {},
   "outputs": [
    {
     "name": "stdout",
     "output_type": "stream",
     "text": [
      "Dog: Woof!\n",
      "Cat: Meow!\n"
     ]
    }
   ],
   "source": [
    "from abc import ABC, abstractmethod\n",
    "\n",
    "class Animal(ABC):\n",
    "    @abstractmethod\n",
    "    def speak(self):\n",
    "        pass\n",
    "    \n",
    "class Dog(Animal):\n",
    "    def speak(self):\n",
    "        return \"Woof!\"\n",
    "\n",
    "class Cat(Animal):\n",
    "    def speak(self):\n",
    "        return \"Meow!\"\n",
    "\n",
    "dog1 = Dog()\n",
    "cat1 = Cat()\n",
    "print(\"Dog:\", dog1.speak())\n",
    "print(\"Cat:\", cat1.speak())"
   ]
  },
  {
   "cell_type": "markdown",
   "id": "6e38d801-02c7-4a4d-8eb5-423d5e905c8b",
   "metadata": {},
   "source": [
    "### 14) Demonstrate multiple inheritance in Python"
   ]
  },
  {
   "cell_type": "code",
   "execution_count": 1,
   "id": "396fee3d-6e1f-4ece-b235-729563705d53",
   "metadata": {},
   "outputs": [
    {
     "name": "stdout",
     "output_type": "stream",
     "text": [
      "I can fly!\n",
      "I can swim!\n",
      "Quack!\n"
     ]
    }
   ],
   "source": [
    "class Flyer:\n",
    "    def can_fly(self):\n",
    "        return \"I can fly!\"\n",
    "\n",
    "class Swimmer:\n",
    "    def can_swim(self):\n",
    "        return \"I can swim!\"\n",
    "\n",
    "class Duck(Flyer, Swimmer):\n",
    "    def sound(self):\n",
    "        return \"Quack!\"\n",
    "\n",
    "duck = Duck()\n",
    "print(duck.can_fly())    \n",
    "print(duck.can_swim())   \n",
    "print(duck.sound())"
   ]
  },
  {
   "cell_type": "markdown",
   "id": "6e7b0fc2-c3a2-450e-b022-08208faa8211",
   "metadata": {},
   "source": [
    "### 15) Demonstrate encapsulation using getter and setter"
   ]
  },
  {
   "cell_type": "code",
   "execution_count": 2,
   "id": "9a37279e-5997-476e-8c99-091fde70b3aa",
   "metadata": {},
   "outputs": [
    {
     "name": "stdout",
     "output_type": "stream",
     "text": [
      "Owner: Ravi, Balance: 1000\n",
      "Current Balance: 1000\n",
      "Owner: Ravi, Balance: 1500\n",
      "Invalid balance. Must be non-negative.\n"
     ]
    }
   ],
   "source": [
    "class BankAccount:\n",
    "    def __init__(self, owner, balance=0):\n",
    "        self.owner = owner\n",
    "        self.__balance = balance  \n",
    "\n",
    "    def get_balance(self):  \n",
    "        return self.__balance\n",
    "\n",
    "    def set_balance(self, amount):  \n",
    "        if amount >= 0:\n",
    "            self.__balance = amount\n",
    "        else:\n",
    "            print(\"Invalid balance. Must be non-negative.\")\n",
    "\n",
    "    def display(self):\n",
    "        print(f\"Owner: {self.owner}, Balance: {self.__balance}\")\n",
    "\n",
    "account = BankAccount(\"Ravi\", 1000)\n",
    "account.display()\n",
    "\n",
    "print(\"Current Balance:\", account.get_balance())\n",
    "\n",
    "account.set_balance(1500)\n",
    "account.display()\n",
    "\n",
    "account.set_balance(-500)"
   ]
  },
  {
   "cell_type": "markdown",
   "id": "71a69532-8e31-4039-8a82-164762f37e96",
   "metadata": {},
   "source": [
    "### 16) Write a program to demonstrate polymorphism with a common method"
   ]
  },
  {
   "cell_type": "code",
   "execution_count": 3,
   "id": "2cdffc72-ff3c-4958-8b27-4c94e2b46956",
   "metadata": {},
   "outputs": [
    {
     "name": "stdout",
     "output_type": "stream",
     "text": [
      "Woof!\n",
      "Meow!\n",
      "Moo!\n"
     ]
    }
   ],
   "source": [
    "class Animal:\n",
    "    def make_sound(self):\n",
    "        return \"Some generic animal sound.\"\n",
    "\n",
    "class Dog(Animal):\n",
    "    def make_sound(self):\n",
    "        return \"Woof!\"\n",
    "\n",
    "class Cat(Animal):\n",
    "    def make_sound(self):\n",
    "        return \"Meow!\"\n",
    "\n",
    "class Cow(Animal):\n",
    "    def make_sound(self):\n",
    "        return \"Moo!\"\n",
    "\n",
    "def animal_sound(animal):\n",
    "    print(animal.make_sound())\n",
    "\n",
    "animals = [Dog(), Cat(), Cow()]\n",
    "\n",
    "for animal in animals:\n",
    "    animal_sound(animal)"
   ]
  },
  {
   "cell_type": "markdown",
   "id": "9485ac74-4e5d-484d-ab0d-5864bb387c9e",
   "metadata": {},
   "source": [
    "### 17) Create a class `Employee` with a method to display the number of employees created"
   ]
  },
  {
   "cell_type": "code",
   "execution_count": 4,
   "id": "371c3e0b-c876-4514-94d2-d36d41d42f2e",
   "metadata": {},
   "outputs": [
    {
     "name": "stdout",
     "output_type": "stream",
     "text": [
      "Total employees created: 3\n"
     ]
    }
   ],
   "source": [
    "class Employee:\n",
    "    count = 0  \n",
    "\n",
    "    def __init__(self, name):\n",
    "        self.name = name\n",
    "        Employee.count += 1  \n",
    "\n",
    "    @classmethod\n",
    "    def display_count(cls):\n",
    "        print(f\"Total employees created: {cls.count}\")\n",
    "\n",
    "emp1 = Employee(\"Alice\")\n",
    "emp2 = Employee(\"Bob\")\n",
    "emp3 = Employee(\"Charlie\")\n",
    "\n",
    "Employee.display_count()"
   ]
  },
  {
   "cell_type": "markdown",
   "id": "d99be871-2994-4ea6-ac5b-729657ad0b20",
   "metadata": {},
   "source": [
    "### 18) Demonstrate constructor overloading using default arguments"
   ]
  },
  {
   "cell_type": "code",
   "execution_count": 6,
   "id": "eaf840b4-e14d-4f10-9521-7b5337e6c55e",
   "metadata": {},
   "outputs": [
    {
     "name": "stdout",
     "output_type": "stream",
     "text": [
      "Title: Unknown Title, Author: Unknown Author, Year: Not specified\n",
      "Title: Atomic Habits, Author: Unknown Author, Year: Not specified\n",
      "Title: 1984, Author: George  in the jungle, Year: Not specified\n",
      "Title: Clean Code, Author: Robert, Year: 2008\n"
     ]
    }
   ],
   "source": [
    "class Book:\n",
    "    def __init__(self, title=\"Unknown Title\", author=\"Unknown Author\", year=None):\n",
    "        self.title = title\n",
    "        self.author = author\n",
    "        self.year = year\n",
    "\n",
    "    def display(self):\n",
    "        print(f\"Title: {self.title}, Author: {self.author}, Year: {self.year if self.year else 'Not specified'}\")\n",
    "\n",
    "book1 = Book()\n",
    "book2 = Book(\"Atomic Habits\")\n",
    "book3 = Book(\"1984\", \"George  in the jungle\")\n",
    "book4 = Book(\"Clean Code\", \"Robert\", 2008)\n",
    "\n",
    "book1.display()\n",
    "book2.display()\n",
    "book3.display()\n",
    "book4.display()"
   ]
  },
  {
   "cell_type": "markdown",
   "id": "743c84a5-c3fe-4739-a43b-fc3be6417caa",
   "metadata": {},
   "source": [
    "### 19) Implement a bank account system with deposit and withdrawal methods"
   ]
  },
  {
   "cell_type": "code",
   "execution_count": 7,
   "id": "f69291d6-6504-455c-9427-3f8df4b5f43f",
   "metadata": {},
   "outputs": [
    {
     "name": "stdout",
     "output_type": "stream",
     "text": [
      "Account Owner: Rishab, Balance: ₹5000\n",
      "Deposited ₹1500. New balance: ₹6500\n",
      "Withdrew ₹2000. Remaining balance: ₹4500\n",
      "Insufficient balance or invalid amount.\n",
      "Final balance: 4500\n"
     ]
    }
   ],
   "source": [
    "class BankAccount:\n",
    "    def __init__(self, owner, balance=0):\n",
    "        self.owner = owner\n",
    "        self.__balance = balance\n",
    "\n",
    "    def deposit(self, amount):\n",
    "        if amount > 0:\n",
    "            self.__balance += amount\n",
    "            print(f\"Deposited ₹{amount}. New balance: ₹{self.__balance}\")\n",
    "        else:\n",
    "            print(\"Deposit amount must be positive.\")\n",
    "\n",
    "    def withdraw(self, amount):\n",
    "        if 0 < amount <= self.__balance:\n",
    "            self.__balance -= amount\n",
    "            print(f\"Withdrew ₹{amount}. Remaining balance: ₹{self.__balance}\")\n",
    "        else:\n",
    "            print(\"Insufficient balance or invalid amount.\")\n",
    "\n",
    "    def get_balance(self):\n",
    "        return self.__balance\n",
    "\n",
    "    def display(self):\n",
    "        print(f\"Account Owner: {self.owner}, Balance: ₹{self.__balance}\")\n",
    "\n",
    "account1 = BankAccount(\"Rishab\", 5000)\n",
    "account1.display()\n",
    "\n",
    "account1.deposit(1500)\n",
    "account1.withdraw(2000)\n",
    "account1.withdraw(6000)\n",
    "\n",
    "print(\"Final balance:\", account1.get_balance())"
   ]
  },
  {
   "cell_type": "markdown",
   "id": "bb2284b3-3c4d-4078-92c3-eeef22a785a9",
   "metadata": {},
   "source": [
    "### 20) Create a class `Rectangle` with method to calculate area and perimeter"
   ]
  },
  {
   "cell_type": "code",
   "execution_count": 8,
   "id": "8c9519d5-6672-4ebb-b2eb-aa825fb9891f",
   "metadata": {},
   "outputs": [
    {
     "name": "stdout",
     "output_type": "stream",
     "text": [
      "Length: 10, Width: 5\n",
      "Area: 50\n",
      "Perimeter: 30\n"
     ]
    }
   ],
   "source": [
    "class Rectangle:\n",
    "    def __init__(self, length, width):\n",
    "        self.length = length\n",
    "        self.width = width\n",
    "\n",
    "    def area(self):\n",
    "        return self.length * self.width\n",
    "\n",
    "    def perimeter(self):\n",
    "        return 2 * (self.length + self.width)\n",
    "\n",
    "    def display(self):\n",
    "        print(f\"Length: {self.length}, Width: {self.width}\")\n",
    "        print(f\"Area: {self.area()}\")\n",
    "        print(f\"Perimeter: {self.perimeter()}\")\n",
    "\n",
    "rect1 = Rectangle(10, 5)\n",
    "rect1.display()"
   ]
  },
  {
   "cell_type": "code",
   "execution_count": null,
   "id": "94f430b8-67b0-4cec-b58b-0d1851069475",
   "metadata": {},
   "outputs": [],
   "source": []
  }
 ],
 "metadata": {
  "kernelspec": {
   "display_name": "Python 3 (ipykernel)",
   "language": "python",
   "name": "python3"
  },
  "language_info": {
   "codemirror_mode": {
    "name": "ipython",
    "version": 3
   },
   "file_extension": ".py",
   "mimetype": "text/x-python",
   "name": "python",
   "nbconvert_exporter": "python",
   "pygments_lexer": "ipython3",
   "version": "3.12.7"
  }
 },
 "nbformat": 4,
 "nbformat_minor": 5
}
