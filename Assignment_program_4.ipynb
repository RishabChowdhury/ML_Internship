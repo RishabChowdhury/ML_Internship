{
 "cells": [
  {
   "cell_type": "markdown",
   "id": "219f87fe-1394-4e2e-b41b-de249728ff08",
   "metadata": {},
   "source": [
    "## Numpy Questions"
   ]
  },
  {
   "cell_type": "markdown",
   "id": "b79d67f6-ecc4-4f9a-b538-e3ca63d9226c",
   "metadata": {},
   "source": [
    "### 1) Create a 1D array from a list"
   ]
  },
  {
   "cell_type": "code",
   "execution_count": 1,
   "id": "07f46456-1e2a-4523-8abb-9ca203a5a877",
   "metadata": {},
   "outputs": [
    {
     "name": "stdout",
     "output_type": "stream",
     "text": [
      "1D NumPy Array: [10 20 30 40 50]\n"
     ]
    }
   ],
   "source": [
    "import numpy as np\n",
    "\n",
    "my_list = [10, 20, 30, 40, 50]\n",
    "array_1d = np.array(my_list)\n",
    "\n",
    "print(\"1D NumPy Array:\", array_1d)"
   ]
  },
  {
   "cell_type": "markdown",
   "id": "3ee56eaf-b01d-44d0-8b52-4a5fad95fd47",
   "metadata": {},
   "source": [
    "### 2) Create a 3x3 array of zeros"
   ]
  },
  {
   "cell_type": "code",
   "execution_count": 2,
   "id": "a6c0596f-d937-44e4-99fb-7841bfac6edb",
   "metadata": {},
   "outputs": [
    {
     "name": "stdout",
     "output_type": "stream",
     "text": [
      "3x3 Array of Zeros:\n",
      " [[0. 0. 0.]\n",
      " [0. 0. 0.]\n",
      " [0. 0. 0.]]\n"
     ]
    }
   ],
   "source": [
    "import numpy as np\n",
    "\n",
    "zeros_array = np.zeros((3, 3))\n",
    "print(\"3x3 Array of Zeros:\\n\", zeros_array)"
   ]
  },
  {
   "cell_type": "markdown",
   "id": "6615aa14-190d-4c83-aaf2-7337cff5f96f",
   "metadata": {},
   "source": [
    "### 3) Create a 2x2 array of ones"
   ]
  },
  {
   "cell_type": "code",
   "execution_count": 3,
   "id": "47fdb62c-02e0-4f59-9df7-eedc4597f49e",
   "metadata": {},
   "outputs": [
    {
     "name": "stdout",
     "output_type": "stream",
     "text": [
      "2x2 Array of Ones:\n",
      " [[1. 1.]\n",
      " [1. 1.]]\n"
     ]
    }
   ],
   "source": [
    "import numpy as np\n",
    "\n",
    "ones_array = np.ones((2, 2))\n",
    "print(\"2x2 Array of Ones:\\n\", ones_array)"
   ]
  },
  {
   "cell_type": "markdown",
   "id": "689dec7b-477e-4eed-99e9-73bad6ff0f2e",
   "metadata": {},
   "source": [
    "### 4) Generate an array from 0 to 10 (exclusive)"
   ]
  },
  {
   "cell_type": "code",
   "execution_count": 4,
   "id": "b1fc46ba-279c-439f-aaf0-520aa35ac95e",
   "metadata": {},
   "outputs": [
    {
     "name": "stdout",
     "output_type": "stream",
     "text": [
      "Array from 0 to 9: [0 1 2 3 4 5 6 7 8 9]\n"
     ]
    }
   ],
   "source": [
    "import numpy as np\n",
    "\n",
    "array = np.arange(0, 10)\n",
    "print(\"Array from 0 to 9:\", array)"
   ]
  },
  {
   "cell_type": "markdown",
   "id": "422a29b3-e71c-4ae9-8394-5c46d2d6defb",
   "metadata": {},
   "source": [
    "### 5) Create 5 evenly spaced numbers between 0 and 1"
   ]
  },
  {
   "cell_type": "code",
   "execution_count": 5,
   "id": "9e5c5ea8-75c2-41d5-a0b5-c5d05855ba62",
   "metadata": {},
   "outputs": [
    {
     "name": "stdout",
     "output_type": "stream",
     "text": [
      "[0.   0.25 0.5  0.75 1.  ]\n"
     ]
    }
   ],
   "source": [
    "import numpy as np\n",
    "arr = np.linspace(0, 1, 5)\n",
    "print(arr)"
   ]
  },
  {
   "cell_type": "markdown",
   "id": "5c090360-5fb2-475c-a6c0-ce9184da4eb6",
   "metadata": {},
   "source": [
    "### 6) Create a 4x4 identity matrix"
   ]
  },
  {
   "cell_type": "code",
   "execution_count": 6,
   "id": "f11b0439-0912-4497-8fa9-3e355e35a21a",
   "metadata": {},
   "outputs": [
    {
     "name": "stdout",
     "output_type": "stream",
     "text": [
      "[[1. 0. 0. 0.]\n",
      " [0. 1. 0. 0.]\n",
      " [0. 0. 1. 0.]\n",
      " [0. 0. 0. 1.]]\n"
     ]
    }
   ],
   "source": [
    "identity = np.eye(4)\n",
    "print(identity)"
   ]
  },
  {
   "cell_type": "markdown",
   "id": "aa82cef6-3db0-4878-9a3b-e1b0249569fe",
   "metadata": {},
   "source": [
    "### 7) Reshape a 1D array to 2D"
   ]
  },
  {
   "cell_type": "code",
   "execution_count": 7,
   "id": "df390bc4-412d-491c-9a76-bddb8e5785ed",
   "metadata": {},
   "outputs": [
    {
     "name": "stdout",
     "output_type": "stream",
     "text": [
      "[[0 1 2]\n",
      " [3 4 5]]\n"
     ]
    }
   ],
   "source": [
    "a = np.arange(6)\n",
    "reshaped = a.reshape(2, 3)\n",
    "print(reshaped)"
   ]
  },
  {
   "cell_type": "markdown",
   "id": "98084196-a261-4634-8c42-6496a2f011b4",
   "metadata": {},
   "source": [
    "### 8) Get the shape and dtype of an array"
   ]
  },
  {
   "cell_type": "code",
   "execution_count": 8,
   "id": "35c5b591-6832-4907-8bb4-bfe981fe45df",
   "metadata": {},
   "outputs": [
    {
     "name": "stdout",
     "output_type": "stream",
     "text": [
      "(2, 2)\n",
      "int32\n"
     ]
    }
   ],
   "source": [
    "b = np.array([[1, 2], [3, 4]])\n",
    "print(b.shape)\n",
    "print(b.dtype)"
   ]
  },
  {
   "cell_type": "markdown",
   "id": "71793f7c-55af-4870-993a-ff7464964c27",
   "metadata": {},
   "source": [
    "### 9) Reverse a NumPy array"
   ]
  },
  {
   "cell_type": "code",
   "execution_count": 9,
   "id": "2b7fba1b-89f0-4ad2-bd62-d399a87ec4f0",
   "metadata": {},
   "outputs": [
    {
     "name": "stdout",
     "output_type": "stream",
     "text": [
      "[5 4 3 2 1]\n"
     ]
    }
   ],
   "source": [
    "c = np.array([1, 2, 3, 4, 5])\n",
    "reversed_c = c[::-1]\n",
    "print(reversed_c)"
   ]
  },
  {
   "cell_type": "markdown",
   "id": "9bb73537-e146-439a-b3c0-2194e540b956",
   "metadata": {},
   "source": [
    "### 10) Extract even numbers from an array"
   ]
  },
  {
   "cell_type": "code",
   "execution_count": 10,
   "id": "a02fe387-e318-43c5-9bb7-ba645b1aaa14",
   "metadata": {},
   "outputs": [
    {
     "name": "stdout",
     "output_type": "stream",
     "text": [
      "[2 4 6]\n"
     ]
    }
   ],
   "source": [
    "d = np.array([1, 2, 3, 4, 5, 6])\n",
    "even = d[d % 2 == 0]\n",
    "print(even)"
   ]
  },
  {
   "cell_type": "markdown",
   "id": "554cd614-57a4-4320-98aa-1d26f35d690c",
   "metadata": {},
   "source": [
    "### 11) Find the max in each row"
   ]
  },
  {
   "cell_type": "code",
   "execution_count": 11,
   "id": "9f0093c2-1a45-454b-83fe-dbd55a69e9cc",
   "metadata": {},
   "outputs": [
    {
     "name": "stdout",
     "output_type": "stream",
     "text": [
      "[5 7]\n"
     ]
    }
   ],
   "source": [
    "e = np.array([[1, 5, 3], [7, 2, 6]])\n",
    "row_max = np.max(e, axis=1)\n",
    "print(row_max)"
   ]
  },
  {
   "cell_type": "markdown",
   "id": "62c9f0ba-b0f5-4eda-b02a-2d6d17f5f895",
   "metadata": {},
   "source": [
    "### 12) Compute the mean, std, and median of an array"
   ]
  },
  {
   "cell_type": "code",
   "execution_count": 16,
   "id": "538392d6-ab5e-4624-b6c8-a049d1a104ca",
   "metadata": {},
   "outputs": [
    {
     "name": "stdout",
     "output_type": "stream",
     "text": [
      "30.0\n",
      "14.142135623730951\n",
      "30.0\n"
     ]
    }
   ],
   "source": [
    "f = np.array([10, 20, 30, 40, 50])\n",
    "print(np.mean(f))\n",
    "print(np.std(f))\n",
    "print(np.median(f))"
   ]
  },
  {
   "cell_type": "markdown",
   "id": "15f9fb09-8436-4056-a2e0-a85d193cc520",
   "metadata": {},
   "source": [
    "### 13) Stack two arrays vertically"
   ]
  },
  {
   "cell_type": "code",
   "execution_count": 17,
   "id": "f7435b58-5136-423c-8bfe-3604bee0e0f3",
   "metadata": {},
   "outputs": [
    {
     "name": "stdout",
     "output_type": "stream",
     "text": [
      "[[1 2]\n",
      " [3 4]]\n"
     ]
    }
   ],
   "source": [
    "g1 = np.array([1, 2])\n",
    "g2 = np.array([3, 4])\n",
    "vstacked = np.vstack((g1, g2))\n",
    "print(vstacked)"
   ]
  },
  {
   "cell_type": "markdown",
   "id": "01e96e01-5fd0-4350-a71c-0b8e598e7f9f",
   "metadata": {},
   "source": [
    "### 14) Stack two arrays horizontally"
   ]
  },
  {
   "cell_type": "code",
   "execution_count": 18,
   "id": "7e9be8e0-db60-44d1-850e-49b089131a15",
   "metadata": {},
   "outputs": [
    {
     "name": "stdout",
     "output_type": "stream",
     "text": [
      "[[1 3]\n",
      " [2 4]]\n"
     ]
    }
   ],
   "source": [
    "h1 = np.array([[1], [2]])\n",
    "h2 = np.array([[3], [4]])\n",
    "hstacked = np.hstack((h1, h2))\n",
    "print(hstacked)"
   ]
  },
  {
   "cell_type": "markdown",
   "id": "389d97e8-0959-40ec-96a8-186bac6b73c1",
   "metadata": {},
   "source": [
    "### 15) Find the unique values and their counts"
   ]
  },
  {
   "cell_type": "code",
   "execution_count": 19,
   "id": "d4304a30-e58e-43ba-980e-e21582d68fd4",
   "metadata": {},
   "outputs": [
    {
     "name": "stdout",
     "output_type": "stream",
     "text": [
      "[1 2 3 4]\n",
      "[2 2 1 1]\n"
     ]
    }
   ],
   "source": [
    "i = np.array([1, 2, 2, 3, 1, 4])\n",
    "unique_vals, counts = np.unique(i, return_counts=True)\n",
    "print(unique_vals)\n",
    "print(counts)"
   ]
  },
  {
   "cell_type": "markdown",
   "id": "788ca3bd-c4a5-4a75-98b0-111808358410",
   "metadata": {},
   "source": [
    "### 16) Replace NaN with column means"
   ]
  },
  {
   "cell_type": "code",
   "execution_count": 21,
   "id": "e495a6e0-e247-4dc2-ab4e-f61e5a8af436",
   "metadata": {},
   "outputs": [
    {
     "name": "stdout",
     "output_type": "stream",
     "text": [
      "[[1. 4.]\n",
      " [3. 4.]\n",
      " [5. 4.]]\n"
     ]
    }
   ],
   "source": [
    "j = np.array([[1, np.nan], [3, 4], [5, np.nan]])\n",
    "col_means = np.nanmean(j, axis=0)\n",
    "inds = np.where(np.isnan(j))\n",
    "j[inds] = np.take(col_means, inds[1])\n",
    "print(j)"
   ]
  },
  {
   "cell_type": "markdown",
   "id": "13ea19ad-971e-4f8e-824b-66d2c1da1219",
   "metadata": {},
   "source": [
    "### 17) Get the index of min and max values"
   ]
  },
  {
   "cell_type": "code",
   "execution_count": 22,
   "id": "6684f35c-e4ce-4730-a1ed-83e3253a4ea5",
   "metadata": {},
   "outputs": [
    {
     "name": "stdout",
     "output_type": "stream",
     "text": [
      "2\n",
      "4\n"
     ]
    }
   ],
   "source": [
    "k = np.array([10, 20, 5, 8, 30])\n",
    "print(np.argmin(k))\n",
    "print(np.argmax(k))"
   ]
  },
  {
   "cell_type": "markdown",
   "id": "29383bb4-fb16-416a-a6ea-71341ad5d3bd",
   "metadata": {},
   "source": [
    "### 18) Create a 3D array of random integers"
   ]
  },
  {
   "cell_type": "code",
   "execution_count": 23,
   "id": "7ba815e1-e2bb-466c-96fe-0b3889216387",
   "metadata": {},
   "outputs": [
    {
     "name": "stdout",
     "output_type": "stream",
     "text": [
      "[[[94 42 33 55]\n",
      "  [29  1 57  5]\n",
      "  [22 39 65  5]]\n",
      "\n",
      " [[78 20  2 52]\n",
      "  [71 41 60 49]\n",
      "  [13 89  4 60]]]\n"
     ]
    }
   ],
   "source": [
    "arr_3d = np.random.randint(1, 100, size=(2, 3, 4))\n",
    "print(arr_3d)"
   ]
  },
  {
   "cell_type": "markdown",
   "id": "0e7c41b9-1152-4c93-b7d1-0c49c2a2e0ac",
   "metadata": {},
   "source": [
    "### 19) Use np.where() to replace values"
   ]
  },
  {
   "cell_type": "code",
   "execution_count": 24,
   "id": "9d8184c1-f4bb-4cce-b95a-f5ef692dc767",
   "metadata": {},
   "outputs": [
    {
     "name": "stdout",
     "output_type": "stream",
     "text": [
      "[  1   2   3 100 100]\n"
     ]
    }
   ],
   "source": [
    "l = np.array([1, 2, 3, 4, 5])\n",
    "replaced = np.where(l > 3, 100, l)\n",
    "print(replaced)"
   ]
  },
  {
   "cell_type": "markdown",
   "id": "cc6bed3e-bb5b-4870-89ab-3e005a3da12d",
   "metadata": {},
   "source": [
    "## Pandas Questions"
   ]
  },
  {
   "cell_type": "markdown",
   "id": "e3adff30-ad4b-4679-bf9c-2c5fa8eef670",
   "metadata": {},
   "source": [
    "### 20) Create a Series using a Python list"
   ]
  },
  {
   "cell_type": "code",
   "execution_count": 25,
   "id": "df1d08d9-315e-44a9-9314-e5860232a5b2",
   "metadata": {},
   "outputs": [
    {
     "name": "stdout",
     "output_type": "stream",
     "text": [
      "0    10\n",
      "1    20\n",
      "2    30\n",
      "3    40\n",
      "dtype: int64\n"
     ]
    }
   ],
   "source": [
    "import pandas as pd\n",
    "\n",
    "s1 = pd.Series([10, 20, 30, 40])\n",
    "print(s1)"
   ]
  },
  {
   "cell_type": "markdown",
   "id": "f1cf509e-9bb1-4a29-86cd-defb7bd5bd1b",
   "metadata": {},
   "source": [
    "### 21) Create a Series with custom string indices"
   ]
  },
  {
   "cell_type": "code",
   "execution_count": 26,
   "id": "95245ee9-bf07-4ce6-96ce-b34281a33625",
   "metadata": {},
   "outputs": [
    {
     "name": "stdout",
     "output_type": "stream",
     "text": [
      "a    100\n",
      "b    200\n",
      "c    300\n",
      "dtype: int64\n"
     ]
    }
   ],
   "source": [
    "s2 = pd.Series([100, 200, 300], index=['a', 'b', 'c'])\n",
    "print(s2)"
   ]
  },
  {
   "cell_type": "markdown",
   "id": "ad183f7d-c33f-4539-a84e-81ee5b053761",
   "metadata": {},
   "source": [
    "### 22) Create a Series from a dictionary"
   ]
  },
  {
   "cell_type": "code",
   "execution_count": 27,
   "id": "b3bfe86e-0c45-414a-ab11-cf76adc6c5fe",
   "metadata": {},
   "outputs": [
    {
     "name": "stdout",
     "output_type": "stream",
     "text": [
      "Math       90\n",
      "Science    85\n",
      "English    95\n",
      "dtype: int64\n"
     ]
    }
   ],
   "source": [
    "s3 = pd.Series({'Math': 90, 'Science': 85, 'English': 95})\n",
    "print(s3)"
   ]
  },
  {
   "cell_type": "markdown",
   "id": "5972e81a-8a19-42f1-8ba5-37dad3db74f1",
   "metadata": {},
   "source": [
    "### 23) Access the first 3 elements of a series"
   ]
  },
  {
   "cell_type": "code",
   "execution_count": 28,
   "id": "9f140dca-ac68-4f27-a37b-d2f8bb740947",
   "metadata": {},
   "outputs": [
    {
     "name": "stdout",
     "output_type": "stream",
     "text": [
      "0    10\n",
      "1    20\n",
      "2    30\n",
      "dtype: int64\n"
     ]
    }
   ],
   "source": [
    "print(s1[:3])"
   ]
  },
  {
   "cell_type": "markdown",
   "id": "6068caa0-5fe9-4eaa-9702-c53bfcde1242",
   "metadata": {},
   "source": [
    "### 24) Filter Series elements greater than 50"
   ]
  },
  {
   "cell_type": "code",
   "execution_count": 29,
   "id": "f01ac493-e564-4c49-8689-a6e31dde4053",
   "metadata": {},
   "outputs": [
    {
     "name": "stdout",
     "output_type": "stream",
     "text": [
      "1    60\n",
      "2    75\n",
      "4    90\n",
      "dtype: int64\n"
     ]
    }
   ],
   "source": [
    "s4 = pd.Series([45, 60, 75, 20, 90])\n",
    "print(s4[s4 > 50])"
   ]
  },
  {
   "cell_type": "markdown",
   "id": "277d3194-1750-46be-bef8-3a519f88031b",
   "metadata": {},
   "source": [
    "### 25) Add two series with different indices"
   ]
  },
  {
   "cell_type": "code",
   "execution_count": 30,
   "id": "3391f56d-ea32-4339-b468-a10c8d599f23",
   "metadata": {},
   "outputs": [
    {
     "name": "stdout",
     "output_type": "stream",
     "text": [
      "a    NaN\n",
      "b    6.0\n",
      "c    8.0\n",
      "d    NaN\n",
      "dtype: float64\n"
     ]
    }
   ],
   "source": [
    "s5 = pd.Series([1, 2, 3], index=['a', 'b', 'c'])\n",
    "s6 = pd.Series([4, 5, 6], index=['b', 'c', 'd'])\n",
    "print(s5 + s6)"
   ]
  },
  {
   "cell_type": "markdown",
   "id": "69b3a2ac-ff51-4652-a02d-036cf6d3dd74",
   "metadata": {},
   "source": [
    "### 26) Multiply a Series by a scalar"
   ]
  },
  {
   "cell_type": "code",
   "execution_count": 31,
   "id": "2bc5d7da-25a0-436a-85b7-ba46cd447206",
   "metadata": {},
   "outputs": [
    {
     "name": "stdout",
     "output_type": "stream",
     "text": [
      "a    10\n",
      "b    20\n",
      "c    30\n",
      "dtype: int64\n"
     ]
    }
   ],
   "source": [
    "print(s5 * 10)"
   ]
  },
  {
   "cell_type": "markdown",
   "id": "6541131c-3e63-4fe8-91f3-1e17b2a1d381",
   "metadata": {},
   "source": [
    "### 27) Use .multiply() method to multiply with a scalar"
   ]
  },
  {
   "cell_type": "code",
   "execution_count": 33,
   "id": "76f3007f-bb1f-48b6-84ef-7153d2dc364e",
   "metadata": {},
   "outputs": [
    {
     "name": "stdout",
     "output_type": "stream",
     "text": [
      "a     5\n",
      "b    10\n",
      "c    15\n",
      "dtype: int64\n"
     ]
    }
   ],
   "source": [
    "print(s5.multiply(5))"
   ]
  },
  {
   "cell_type": "markdown",
   "id": "fe7f9731-a8bd-492a-956e-9457e5ab42c3",
   "metadata": {},
   "source": [
    "### 28) Sort Series by values descending"
   ]
  },
  {
   "cell_type": "code",
   "execution_count": 34,
   "id": "30681f24-3c0d-4e21-a799-24a4ef3346b8",
   "metadata": {},
   "outputs": [
    {
     "name": "stdout",
     "output_type": "stream",
     "text": [
      "1    40\n",
      "3    25\n",
      "0    15\n",
      "2     5\n",
      "dtype: int64\n"
     ]
    }
   ],
   "source": [
    "s7 = pd.Series([15, 40, 5, 25])\n",
    "print(s7.sort_values(ascending=False))"
   ]
  },
  {
   "cell_type": "markdown",
   "id": "bdf2844c-6425-426c-89c6-6e6efdb3b03c",
   "metadata": {},
   "source": [
    "### 29) Sort Series by index"
   ]
  },
  {
   "cell_type": "code",
   "execution_count": 35,
   "id": "9b749884-9314-4efe-87c5-9eb44889e50b",
   "metadata": {},
   "outputs": [
    {
     "name": "stdout",
     "output_type": "stream",
     "text": [
      "a    300\n",
      "b    100\n",
      "c    200\n",
      "dtype: int64\n"
     ]
    }
   ],
   "source": [
    "s8 = pd.Series([100, 200, 300], index=['b', 'c', 'a'])\n",
    "print(s8.sort_index())"
   ]
  },
  {
   "cell_type": "markdown",
   "id": "7ec16a69-49fb-4048-9f82-8fe94b9dcbf4",
   "metadata": {},
   "source": [
    "### 30) Check for null values"
   ]
  },
  {
   "cell_type": "code",
   "execution_count": 36,
   "id": "5ad20be2-1bfa-4368-917e-9c945727c5f3",
   "metadata": {},
   "outputs": [
    {
     "name": "stdout",
     "output_type": "stream",
     "text": [
      "0    False\n",
      "1     True\n",
      "2    False\n",
      "3     True\n",
      "4    False\n",
      "dtype: bool\n"
     ]
    }
   ],
   "source": [
    "s9 = pd.Series([10, None, 30, None, 50])\n",
    "print(s9.isnull())"
   ]
  },
  {
   "cell_type": "markdown",
   "id": "e2977b46-992c-47bc-8ed0-bc720e027478",
   "metadata": {},
   "source": [
    "### 31) Concatenate two Series using concat()"
   ]
  },
  {
   "cell_type": "code",
   "execution_count": 1,
   "id": "2d405fa2-ff7e-45f4-b963-4572494ea0e7",
   "metadata": {},
   "outputs": [
    {
     "name": "stdout",
     "output_type": "stream",
     "text": [
      "Concatenated Series using concat():\n",
      " 0    1\n",
      "1    2\n",
      "2    3\n",
      "0    4\n",
      "1    5\n",
      "2    6\n",
      "dtype: int64\n"
     ]
    }
   ],
   "source": [
    "import pandas as pd\n",
    "\n",
    "s1 = pd.Series([1, 2, 3])\n",
    "s2 = pd.Series([4, 5, 6])\n",
    "\n",
    "concatenated = pd.concat([s1, s2])\n",
    "print(\"Concatenated Series using concat():\\n\", concatenated)"
   ]
  },
  {
   "cell_type": "markdown",
   "id": "3fa46277-6560-44fe-b245-0c10f0615d16",
   "metadata": {},
   "source": [
    "### 32) Retrieve the first 5 elements using .head()"
   ]
  },
  {
   "cell_type": "code",
   "execution_count": 4,
   "id": "3a097050-f952-444b-bf5d-f4751c09bbf3",
   "metadata": {},
   "outputs": [
    {
     "name": "stdout",
     "output_type": "stream",
     "text": [
      "First 5 elements using head():\n",
      " 0    0\n",
      "1    1\n",
      "2    2\n",
      "3    3\n",
      "4    4\n",
      "dtype: int64\n"
     ]
    }
   ],
   "source": [
    "s3 = pd.Series(range(10))\n",
    "print(\"First 5 elements using head():\\n\", s3.head())"
   ]
  },
  {
   "cell_type": "markdown",
   "id": "c1a3af12-2b87-4370-95fb-dae956746a21",
   "metadata": {},
   "source": [
    "### 33) Retrieve the last 5 elements using .tail()"
   ]
  },
  {
   "cell_type": "code",
   "execution_count": 5,
   "id": "2fedef8d-bf57-423e-82e0-0b081fc513cb",
   "metadata": {},
   "outputs": [
    {
     "name": "stdout",
     "output_type": "stream",
     "text": [
      "Last 5 elements using tail():\n",
      " 5    5\n",
      "6    6\n",
      "7    7\n",
      "8    8\n",
      "9    9\n",
      "dtype: int64\n"
     ]
    }
   ],
   "source": [
    "print(\"Last 5 elements using tail():\\n\", s3.tail())"
   ]
  },
  {
   "cell_type": "markdown",
   "id": "a6b1e029-541d-4853-8cde-b719a408ec8a",
   "metadata": {},
   "source": [
    "### 34) Convert Series to DataFrame"
   ]
  },
  {
   "cell_type": "code",
   "execution_count": 6,
   "id": "dce792c6-f789-4724-9ff4-53a66e919fa6",
   "metadata": {},
   "outputs": [
    {
     "name": "stdout",
     "output_type": "stream",
     "text": [
      "Converted Series to DataFrame:\n",
      "    Values\n",
      "0       1\n",
      "1       2\n",
      "2       3\n"
     ]
    }
   ],
   "source": [
    "df = s1.to_frame(name=\"Values\")\n",
    "print(\"Converted Series to DataFrame:\\n\", df)"
   ]
  },
  {
   "cell_type": "markdown",
   "id": "ec7292e2-d478-46d1-a635-ea637a807138",
   "metadata": {},
   "source": [
    "### 35) Replace NaN with 0"
   ]
  },
  {
   "cell_type": "code",
   "execution_count": 7,
   "id": "6c7918ff-c78d-4c73-9eba-8d75169ee2a0",
   "metadata": {},
   "outputs": [
    {
     "name": "stdout",
     "output_type": "stream",
     "text": [
      "Series after replacing NaN with 0:\n",
      " 0    10.0\n",
      "1     0.0\n",
      "2    30.0\n",
      "3     0.0\n",
      "4    50.0\n",
      "dtype: float64\n"
     ]
    }
   ],
   "source": [
    "s4 = pd.Series([10, None, 30, None, 50])\n",
    "filled = s4.fillna(0)\n",
    "print(\"Series after replacing NaN with 0:\\n\", filled)"
   ]
  },
  {
   "cell_type": "markdown",
   "id": "f6d139c1-9cc6-490b-a530-9fab427dc07b",
   "metadata": {},
   "source": [
    "### 36)  Drop missing values"
   ]
  },
  {
   "cell_type": "code",
   "execution_count": 8,
   "id": "2e53ccd6-2ccb-4ed0-9e9a-a42b6158987e",
   "metadata": {},
   "outputs": [
    {
     "name": "stdout",
     "output_type": "stream",
     "text": [
      "Series after dropping NaN values:\n",
      " 0    10.0\n",
      "2    30.0\n",
      "4    50.0\n",
      "dtype: float64\n"
     ]
    }
   ],
   "source": [
    "dropped = s4.dropna()\n",
    "print(\"Series after dropping NaN values:\\n\", dropped)"
   ]
  },
  {
   "cell_type": "markdown",
   "id": "24ba5da8-cd7d-4cbd-b3b4-a64795656d98",
   "metadata": {},
   "source": [
    "### 37) Check Series data type"
   ]
  },
  {
   "cell_type": "code",
   "execution_count": 9,
   "id": "c8f64db0-9367-453b-a3b6-06cdad476e7a",
   "metadata": {},
   "outputs": [
    {
     "name": "stdout",
     "output_type": "stream",
     "text": [
      "Data type of Series: float64\n"
     ]
    }
   ],
   "source": [
    "print(\"Data type of Series:\", s4.dtype)"
   ]
  },
  {
   "cell_type": "code",
   "execution_count": null,
   "id": "eb989022-d79f-434a-9e76-6c95a10fa9fb",
   "metadata": {},
   "outputs": [],
   "source": []
  }
 ],
 "metadata": {
  "kernelspec": {
   "display_name": "Python 3 (ipykernel)",
   "language": "python",
   "name": "python3"
  },
  "language_info": {
   "codemirror_mode": {
    "name": "ipython",
    "version": 3
   },
   "file_extension": ".py",
   "mimetype": "text/x-python",
   "name": "python",
   "nbconvert_exporter": "python",
   "pygments_lexer": "ipython3",
   "version": "3.12.7"
  }
 },
 "nbformat": 4,
 "nbformat_minor": 5
}
