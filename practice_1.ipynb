{
 "cells": [
  {
   "cell_type": "code",
   "execution_count": 1,
   "id": "63074a9e-11f9-4db1-8454-bf2c1905fee1",
   "metadata": {},
   "outputs": [
    {
     "name": "stdout",
     "output_type": "stream",
     "text": [
      "Hello, Rishab!\n"
     ]
    }
   ],
   "source": [
    "def greet(name):\n",
    "    return f\"Hello, {name}!\"\n",
    "print(greet(\"Rishab\"))"
   ]
  },
  {
   "cell_type": "code",
   "execution_count": 6,
   "id": "3b87e9fe-c468-43cb-a954-494d6d5c8a8c",
   "metadata": {},
   "outputs": [
    {
     "name": "stdout",
     "output_type": "stream",
     "text": [
      "hello this a function\n"
     ]
    }
   ],
   "source": [
    "def function():\n",
    "    return print(\"hello this a function\")\n",
    "function()"
   ]
  },
  {
   "cell_type": "code",
   "execution_count": 16,
   "id": "de8d897a-e2d0-4356-a7e3-2651cac1a461",
   "metadata": {},
   "outputs": [
    {
     "name": "stdout",
     "output_type": "stream",
     "text": [
      "25\n"
     ]
    }
   ],
   "source": [
    "def add_numbers(a, b):\n",
    "    z = a + b\n",
    "    return z\n",
    "print(add_numbers(10, 15))\n"
   ]
  },
  {
   "cell_type": "code",
   "execution_count": 22,
   "id": "bc767ecb-dc96-48c3-900b-4631407fa2ca",
   "metadata": {},
   "outputs": [
    {
     "data": {
      "text/plain": [
       "(29.160000000000004, 33.912000000000006)"
      ]
     },
     "execution_count": 22,
     "metadata": {},
     "output_type": "execute_result"
    }
   ],
   "source": [
    "def calculate(r):\n",
    "    area = r*r\n",
    "    cir = 2*3.14*r\n",
    "    return area, cir\n",
    "calculate(5.4)\n",
    "    "
   ]
  },
  {
   "cell_type": "code",
   "execution_count": 33,
   "id": "5be8b83b-2113-49c0-ba95-31a6c5b48b20",
   "metadata": {},
   "outputs": [
    {
     "name": "stdout",
     "output_type": "stream",
     "text": [
      "Hello Rishab\n",
      "Hello User\n"
     ]
    }
   ],
   "source": [
    "def greet(name=\"User\" ):\n",
    "    return f\"Hello {name}\"\n",
    "print(greet(\"Rishab\"))  \n",
    "print(greet())"
   ]
  },
  {
   "cell_type": "code",
   "execution_count": 34,
   "id": "ea304aab-3654-4b47-933c-0893cc24bf28",
   "metadata": {},
   "outputs": [
    {
     "name": "stdout",
     "output_type": "stream",
     "text": [
      "4\n"
     ]
    }
   ],
   "source": [
    "square = lambda x: x**2\n",
    "print(square(2))"
   ]
  },
  {
   "cell_type": "code",
   "execution_count": 2,
   "id": "2620aaf8-f608-483f-93f7-910f47a9a149",
   "metadata": {},
   "outputs": [
    {
     "name": "stdout",
     "output_type": "stream",
     "text": [
      "name=rishab\n",
      "age=25\n",
      "city=chennai\n",
      "name=kimshu\n",
      "age=34\n",
      "city=delhi\n",
      "name=dihren\n",
      "age=44\n",
      "city=odisha\n"
     ]
    }
   ],
   "source": [
    "def print_kwargs(**kwargs):\n",
    "    for key,value in kwargs.items():\n",
    "        print(f\"{key}={value}\")\n",
    "print_kwargs(name=\"rishab\",age=25,city=\"chennai\")\n",
    "print_kwargs(name=\"kimshu\",age=34,city=\"delhi\")\n",
    "print_kwargs(name=\"dihren\",age=44,city=\"odisha\")"
   ]
  },
  {
   "cell_type": "code",
   "execution_count": 49,
   "id": "17444882-06cc-43be-8108-26e2faf1cd80",
   "metadata": {},
   "outputs": [
    {
     "name": "stdout",
     "output_type": "stream",
     "text": [
      "120\n"
     ]
    }
   ],
   "source": [
    "def fact(n):\n",
    "    if n==1 or n==0:\n",
    "        return 1\n",
    "    else:\n",
    "        return n* fact(n-1)\n",
    "print(f\"{fact(5)}\")\n"
   ]
  },
  {
   "cell_type": "code",
   "execution_count": 19,
   "id": "de5cba20-6026-4062-9c1b-b3c1219df97c",
   "metadata": {},
   "outputs": [
    {
     "name": "stdout",
     "output_type": "stream",
     "text": [
      "Enter a number:  25\n"
     ]
    },
    {
     "name": "stdout",
     "output_type": "stream",
     "text": [
      "it is not prime\n",
      "25 is not a prime number.\n"
     ]
    }
   ],
   "source": [
    "def prime(n):\n",
    "    for i in range (2,n):\n",
    "        if n % i == 0:\n",
    "            return print (\"it is not prime\")\n",
    "    return print(\"it is prime\")\n",
    "num = int(input(\"Enter a number: \"))\n",
    "if prime(num):\n",
    "    print(f\"{num} is a prime number.\")\n",
    "else:\n",
    "    print(f\"{num} is not a prime number.\")"
   ]
  },
  {
   "cell_type": "code",
   "execution_count": 20,
   "id": "1985b8c0-1024-454c-8b6b-8ba61e32a345",
   "metadata": {},
   "outputs": [
    {
     "data": {
      "text/plain": [
       "30"
      ]
     },
     "execution_count": 20,
     "metadata": {},
     "output_type": "execute_result"
    }
   ],
   "source": [
    "def calculate(l,b):\n",
    "    area = l*b\n",
    "    return area\n",
    "calculate(5,6)"
   ]
  },
  {
   "cell_type": "code",
   "execution_count": 23,
   "id": "ad0c163a-6e26-4139-9208-5a37db5fd4ac",
   "metadata": {},
   "outputs": [
    {
     "name": "stdout",
     "output_type": "stream",
     "text": [
      "b is Maximum\n"
     ]
    }
   ],
   "source": [
    "def max(a,b,c):\n",
    "    if a>b and a>c:\n",
    "        return print (\"a is Maximum\")\n",
    "    elif b>c and b>a:\n",
    "        return print (\"b is Maximum\")\n",
    "    else:\n",
    "        return print (\"c is Maximum\")\n",
    "max(45,100,35)"
   ]
  },
  {
   "cell_type": "code",
   "execution_count": 29,
   "id": "d6362bbb-5c6c-430c-b87e-59db671b9ea0",
   "metadata": {},
   "outputs": [
    {
     "name": "stdout",
     "output_type": "stream",
     "text": [
      "0\n",
      "1\n",
      "2\n",
      "3\n",
      "4\n",
      "5\n"
     ]
    }
   ],
   "source": [
    "# 8. Write a function to return the Fibonnacci sequence up to n terms\n",
    "def fibonacci(n):\n",
    "    for i in range (0 , n+1): \n",
    "        print (i)\n",
    "        j=0\n",
    "        j=j+i\n",
    "fibonacci(5)"
   ]
  },
  {
   "cell_type": "code",
   "execution_count": 40,
   "id": "566425a4-a539-4249-a294-ef93e667e982",
   "metadata": {},
   "outputs": [
    {
     "name": "stdout",
     "output_type": "stream",
     "text": [
      "summit\n",
      "hello\n",
      "rishab\n",
      "jhon\n",
      "hi\n",
      "rishab\n"
     ]
    }
   ],
   "source": [
    "username = \"jhon\"\n",
    "user = \"rishab\"\n",
    "def function():\n",
    "    username = \"summit\"\n",
    "    print(username)\n",
    "    print(\"hello\")\n",
    "    print(user)\n",
    "function()\n",
    "print(username)\n",
    "print(\"hi\")\n",
    "print(user)"
   ]
  },
  {
   "cell_type": "code",
   "execution_count": 47,
   "id": "f05be19c-cd15-46e1-b1be-c2067a7d7d98",
   "metadata": {},
   "outputs": [
    {
     "name": "stdout",
     "output_type": "stream",
     "text": [
      "104\n",
      "99\n"
     ]
    }
   ],
   "source": [
    "x=99\n",
    "y=5\n",
    "def func():\n",
    "    z=x+y\n",
    "    return z\n",
    "result = func()\n",
    "print(result)\n",
    "def func():\n",
    "    x=88\n",
    "print(x)"
   ]
  },
  {
   "cell_type": "code",
   "execution_count": 45,
   "id": "3d316df4-0c11-4858-8ba7-2c0fef89f785",
   "metadata": {},
   "outputs": [],
   "source": [
    "def func():\n",
    "    x=88\n",
    "    print(x)"
   ]
  },
  {
   "cell_type": "code",
   "execution_count": 54,
   "id": "4d6f152c-1ea6-4864-bcfb-1d0eb598b3c2",
   "metadata": {},
   "outputs": [
    {
     "name": "stdout",
     "output_type": "stream",
     "text": [
      "honda city\n"
     ]
    }
   ],
   "source": [
    "class Car:\n",
    "    def __init__(self,brand,model):\n",
    "        self.brand=brand\n",
    "        self.model=model\n",
    "my_car=Car(\"honda\",\"city\")\n",
    "print(my_car.brand,my_car.model)"
   ]
  },
  {
   "cell_type": "code",
   "execution_count": null,
   "id": "910a86b6-285c-4c23-960a-d1cce90750fa",
   "metadata": {},
   "outputs": [],
   "source": [
    "class Car:\n",
    "    def __init__(self,brand,model):\n",
    "        self.brand=brand\n",
    "        self.model=model\n",
    "    def func(self):\n",
    "        return f'{self.brand} {self.model}'\n",
    "my_new=func(\"ford\",\"endavour\")\n",
    "    \n",
    "my_car=Car(\"honda\",\"city\")\n",
    "print(my_car.brand,my_car.model)\n",
    "print(my_car.func())\n",
    "    \n",
    "    "
   ]
  },
  {
   "cell_type": "markdown",
   "id": "f0aa4969-c6f0-4563-adff-c7b1ccd9e7c9",
   "metadata": {},
   "source": [
    "### 1) Create an object car and print its brand."
   ]
  },
  {
   "cell_type": "code",
   "execution_count": 12,
   "id": "45a29b7e-15c8-4af2-a600-151e5ec6d846",
   "metadata": {},
   "outputs": [
    {
     "name": "stdout",
     "output_type": "stream",
     "text": [
      "Audi Q3 2003\n"
     ]
    }
   ],
   "source": [
    "class Car:\n",
    "    def __init__(self,brand,model,year):\n",
    "        self.brand = brand\n",
    "        self.model = model\n",
    "        self.year = year\n",
    "my_car = Car(\"Audi\",\"Q3\",2003)\n",
    "print(my_car.brand,my_car.model,my_car.year)"
   ]
  },
  {
   "cell_type": "markdown",
   "id": "2362bbd5-6d4d-4e21-a044-22c13c72666e",
   "metadata": {},
   "source": [
    "### 2) Change the model of the car using a setter and print."
   ]
  },
  {
   "cell_type": "code",
   "execution_count": 24,
   "id": "5d40bdb0-8436-4a5f-b2bb-c4efeab6c025",
   "metadata": {},
   "outputs": [
    {
     "name": "stdout",
     "output_type": "stream",
     "text": [
      "Audi\n",
      "A3\n",
      "Q3\n"
     ]
    }
   ],
   "source": [
    "class Car:\n",
    "    def __init__(self,brand,model,year):\n",
    "        self.brand = brand\n",
    "        self.__model = model\n",
    "        self.year = year\n",
    "    def get_model(self):\n",
    "        return self.__model\n",
    "    def set_model(self,new_model):\n",
    "        self.__model = new_model\n",
    "my_car = Car(\"Audi\",\"A3\",2003)\n",
    "print(my_car.brand)\n",
    "print(my_car.get_model())\n",
    "my_car.set_model(\"Q3\")\n",
    "print (my_car.get_model())"
   ]
  },
  {
   "cell_type": "code",
   "execution_count": 36,
   "id": "fd3d2faa-0aed-4c8f-b9f9-60e72e34c8fe",
   "metadata": {},
   "outputs": [
    {
     "name": "stdout",
     "output_type": "stream",
     "text": [
      "A3 Engine is Started\n"
     ]
    }
   ],
   "source": [
    "class Vehicle:\n",
    "    def start_engine(self):\n",
    "        pass\n",
    "\n",
    "class Car(Vehicle):\n",
    "    def __init__(self, brand, model, year):\n",
    "        self.brand = brand\n",
    "        self.__model = model\n",
    "        self.year = year\n",
    "        self.is_running = False\n",
    "\n",
    "    def get_model(self):\n",
    "        return self.__model\n",
    "\n",
    "    def set_model(self, new_value):\n",
    "        self.__model = new_value\n",
    "\n",
    "    def start_engine(self):\n",
    "        self.is_running = True\n",
    "        print(f\"{self.__model} Engine is Started\")\n",
    "my_car = Car(\"Audi\", \"A3\", 2003)\n",
    "my_car.start_engine()"
   ]
  },
  {
   "cell_type": "code",
   "execution_count": 41,
   "id": "f7bfb2fc-8c96-4513-8165-4295ddb88a02",
   "metadata": {},
   "outputs": [
    {
     "name": "stdout",
     "output_type": "stream",
     "text": [
      "A3 Engine is Started\n",
      "A3 Engine is Started\n",
      "Nano Engine is Started\n",
      "Model S Engine is Started\n"
     ]
    }
   ],
   "source": [
    "class Vehicle:\n",
    "    def start_engine(self):\n",
    "        pass\n",
    "\n",
    "class Car(Vehicle):\n",
    "    def __init__(self, brand, model, year):\n",
    "        self.brand = brand\n",
    "        self.__model = model\n",
    "        self.year = year\n",
    "        self.is_running = False\n",
    "\n",
    "    def get_model(self):\n",
    "        return self.__model\n",
    "\n",
    "    def set_model(self, new_value):\n",
    "        self.__model = new_value\n",
    "\n",
    "    def start_engine(self):\n",
    "        self.is_running = True\n",
    "        print(f\"{self.__model} Engine is Started\")\n",
    "my_car = Car(\"Audi\", \"A3\", 2003)\n",
    "my_car.start_engine()\n",
    "class ElectricCar(Car):\n",
    "    def start_engine(self):\n",
    "        print(f\"{self.get_model()} Engine is Started\")\n",
    "my_car = Car(\"Audi\", \"A3\", 2003)\n",
    "my_car.start_engine()\n",
    "my_car2 = Car(\"Tata\", \"Nano\", 2005)\n",
    "my_car2.start_engine()\n",
    "my_electric_car = ElectricCar(\"Tesla\", \"Model S\", 2003)\n",
    "my_electric_car.start_engine()"
   ]
  },
  {
   "cell_type": "code",
   "execution_count": 45,
   "id": "9a3df61e-683f-4990-82bc-f5e7f775c3a7",
   "metadata": {},
   "outputs": [
    {
     "name": "stdout",
     "output_type": "stream",
     "text": [
      "A3 Engine is Started\n",
      "A3 Engine is Started\n",
      "Nano Engine is Started\n",
      "Model S Engine is Started\n",
      "3\n"
     ]
    }
   ],
   "source": [
    "class Vehicle:\n",
    "    def start_engine(self):\n",
    "        pass\n",
    "\n",
    "class Car(Vehicle):\n",
    "    total_car = 0\n",
    "    def __init__(self, brand, model, year):\n",
    "        self.brand = brand\n",
    "        self.__model = model\n",
    "        self.year = year\n",
    "        self.is_running = False\n",
    "        Car.total_car+=1\n",
    "\n",
    "    def get_model(self):\n",
    "        return self.__model\n",
    "\n",
    "    def set_model(self, new_value):\n",
    "        self.__model = new_value\n",
    "\n",
    "    def start_engine(self):\n",
    "        self.is_running = True\n",
    "        print(f\"{self.__model} Engine is Started\")\n",
    "my_car = Car(\"Audi\", \"A3\", 2003)\n",
    "my_car.start_engine()\n",
    "class ElectricCar(Car):\n",
    "    def start_engine(self):\n",
    "        print(f\"{self.get_model()} Engine is Started\")\n",
    "my_car.start_engine()\n",
    "my_car2 = Car(\"Tata\", \"Nano\", 2005)\n",
    "my_car2.start_engine()\n",
    "my_electric_car = ElectricCar(\"Tesla\", \"Model S\", 2003)\n",
    "my_electric_car.start_engine()\n",
    "print(Car.total_car)"
   ]
  },
  {
   "cell_type": "code",
   "execution_count": null,
   "id": "9c899b09-4bb1-4963-b19c-38ead4b18c14",
   "metadata": {},
   "outputs": [],
   "source": [
    "def decorator(func):\n",
    "    def wrapper(*args, **kwargs):\n",
    "        result = func(*args, **kwargs)            \n",
    "        return result\n",
    "    return wrapper\n",
    "@decorator\n",
    "def function_to_decorate():\n",
    "    pass"
   ]
  },
  {
   "cell_type": "code",
   "execution_count": 3,
   "id": "9dd1db84",
   "metadata": {},
   "outputs": [
    {
     "name": "stdout",
     "output_type": "stream",
     "text": [
      "before function runs\n",
      "hello, world\n",
      "after the function runs\n"
     ]
    }
   ],
   "source": [
    "def my_name(func):\n",
    "    def wrapper():\n",
    "        print(\"before function runs\")\n",
    "        func()\n",
    "        print(\"after the function runs\")\n",
    "    return wrapper\n",
    "\n",
    "@my_name\n",
    "def say_hello():\n",
    "    print(\"hello, world\")\n",
    "say_hello()\n"
   ]
  },
  {
   "cell_type": "code",
   "execution_count": 26,
   "id": "4d0887dd",
   "metadata": {},
   "outputs": [
    {
     "name": "stdout",
     "output_type": "stream",
     "text": [
      "the area of the rectangle is 50\n",
      "sum of the length width is 15\n",
      "50\n"
     ]
    }
   ],
   "source": [
    "def area(function):\n",
    "    def wrapper(*args, **kwargs):\n",
    "        result = function(*args, **kwargs)\n",
    "        result_1 = sum(args)\n",
    "        print(f\"the area of the rectangle is {result}\")\n",
    "        print(f\"sum of the length width is {result_1}\")\n",
    "        return result\n",
    "    return wrapper\n",
    "@area\n",
    "def rectangle_area(length, width):\n",
    "    return length *width\n",
    "print(rectangle_area(5, 10))"
   ]
  },
  {
   "cell_type": "code",
   "execution_count": 36,
   "id": "29e22842",
   "metadata": {},
   "outputs": [
    {
     "name": "stdout",
     "output_type": "stream",
     "text": [
      "You entered: 50\n",
      "You entered: 100\n",
      "You entered: 50\n",
      "The sum of the numbers is 200\n",
      "200\n"
     ]
    }
   ],
   "source": [
    "\n",
    "def add(function):\n",
    "    def wrapper():\n",
    "        a = int(input(\"Enter the value of a: \"))\n",
    "        print(f\"You entered: {a}\")\n",
    "        b = int(input(\"Enter the value of b: \"))\n",
    "        print(f\"You entered: {b}\")\n",
    "        c = int(input(\"Enter the value of c: \"))\n",
    "        print(f\"You entered: {c}\")\n",
    "        result = function(a, b, c)\n",
    "        print(f\"The sum of the numbers is {result}\")\n",
    "        return result\n",
    "    return wrapper\n",
    "@add\n",
    "def add_numbers(a, b, c):\n",
    "    return a + b + c\n",
    "print(add_numbers())"
   ]
  },
  {
   "cell_type": "code",
   "execution_count": null,
   "id": "7b678e91",
   "metadata": {},
   "outputs": [],
   "source": [
    "\n"
   ]
  }
 ],
 "metadata": {
  "kernelspec": {
   "display_name": "Python 3 (ipykernel)",
   "language": "python",
   "name": "python3"
  },
  "language_info": {
   "codemirror_mode": {
    "name": "ipython",
    "version": 3
   },
   "file_extension": ".py",
   "mimetype": "text/x-python",
   "name": "python",
   "nbconvert_exporter": "python",
   "pygments_lexer": "ipython3",
   "version": "3.12.7"
  }
 },
 "nbformat": 4,
 "nbformat_minor": 5
}
